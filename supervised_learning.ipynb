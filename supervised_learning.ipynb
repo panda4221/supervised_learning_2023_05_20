{
 "cells": [
  {
   "cell_type": "markdown",
   "metadata": {
    "id": "WbX-YvY9vjr6",
    "toc": true
   },
   "source": [
    "<h1>Содержание<span class=\"tocSkip\"></span></h1>\n",
    "<div class=\"toc\"><ul class=\"toc-item\"><li><span><a href=\"#Подготовка-данных\" data-toc-modified-id=\"Подготовка-данных-1\"><span class=\"toc-item-num\">1&nbsp;&nbsp;</span>Подготовка данных</a></span></li><li><span><a href=\"#Исследование-задачи\" data-toc-modified-id=\"Исследование-задачи-2\"><span class=\"toc-item-num\">2&nbsp;&nbsp;</span>Исследование задачи</a></span></li><li><span><a href=\"#Борьба-с-дисбалансом\" data-toc-modified-id=\"Борьба-с-дисбалансом-3\"><span class=\"toc-item-num\">3&nbsp;&nbsp;</span>Борьба с дисбалансом</a></span><ul class=\"toc-item\"><li><span><a href=\"#Взвешивание-классов\" data-toc-modified-id=\"Взвешивание-классов-3.1\"><span class=\"toc-item-num\">3.1&nbsp;&nbsp;</span>Взвешивание классов</a></span></li><li><span><a href=\"#Увеличение-выборки\" data-toc-modified-id=\"Увеличение-выборки-3.2\"><span class=\"toc-item-num\">3.2&nbsp;&nbsp;</span>Увеличение выборки</a></span></li></ul></li><li><span><a href=\"#Тестирование-модели\" data-toc-modified-id=\"Тестирование-модели-4\"><span class=\"toc-item-num\">4&nbsp;&nbsp;</span>Тестирование модели</a></span></li><li><span><a href=\"#Вывод\" data-toc-modified-id=\"Вывод-5\"><span class=\"toc-item-num\">5&nbsp;&nbsp;</span>Вывод</a></span></li><li><span><a href=\"#Чек-лист-готовности-проекта\" data-toc-modified-id=\"Чек-лист-готовности-проекта-6\"><span class=\"toc-item-num\">6&nbsp;&nbsp;</span>Чек-лист готовности проекта</a></span></li></ul></div>"
   ]
  },
  {
   "cell_type": "markdown",
   "metadata": {
    "id": "NcgRkgBBvjr7"
   },
   "source": [
    "# Отток клиентов"
   ]
  },
  {
   "cell_type": "markdown",
   "metadata": {
    "id": "Z8cfEayPvjr7"
   },
   "source": [
    "Из «Бета-Банка» стали уходить клиенты. Каждый месяц. Немного, но заметно. Банковские маркетологи посчитали: сохранять текущих клиентов дешевле, чем привлекать новых.\n",
    "\n",
    "Нужно спрогнозировать, уйдёт клиент из банка в ближайшее время или нет. Вам предоставлены исторические данные о поведении клиентов и расторжении договоров с банком. \n",
    "\n",
    "Постройте модель с предельно большим значением *F1*-меры. Чтобы сдать проект успешно, нужно довести метрику до 0.59. Проверьте *F1*-меру на тестовой выборке самостоятельно.\n",
    "\n",
    "Дополнительно измеряйте *AUC-ROC*, сравнивайте её значение с *F1*-мерой.\n",
    "\n",
    "Источник данных: [https://www.kaggle.com/barelydedicated/bank-customer-churn-modeling](https://www.kaggle.com/barelydedicated/bank-customer-churn-modeling)"
   ]
  },
  {
   "cell_type": "markdown",
   "metadata": {
    "id": "syMIpNVivjr8"
   },
   "source": [
    "## Подготовка данных"
   ]
  },
  {
   "cell_type": "markdown",
   "metadata": {
    "id": "v8U4edqxvjr8"
   },
   "source": [
    "Для начала загрузим все необходимые библиотеки, а также полученный файл. Посмотрим на его содержание, структуру и информацию о нем."
   ]
  },
  {
   "cell_type": "code",
   "execution_count": null,
   "metadata": {
    "id": "FhMUfFWyvjr8"
   },
   "outputs": [],
   "source": [
    "import pandas as pd\n",
    "import matplotlib.pyplot as plt\n",
    "from sklearn.model_selection import train_test_split\n",
    "from sklearn.metrics import mean_squared_error\n",
    "from sklearn.metrics import f1_score\n",
    "from sklearn.tree import DecisionTreeClassifier\n",
    "from sklearn.ensemble import RandomForestClassifier\n",
    "from sklearn.linear_model import LogisticRegression\n",
    "from sklearn.metrics import roc_auc_score\n",
    "from sklearn.utils import shuffle\n",
    "from sklearn.preprocessing import StandardScaler"
   ]
  },
  {
   "cell_type": "code",
   "execution_count": null,
   "metadata": {
    "id": "m95WSJSyvjr_",
    "outputId": "fa84fc0d-715a-4074-c056-83fe165220c0"
   },
   "outputs": [
    {
     "data": {
      "text/html": [
       "<div>\n",
       "<style scoped>\n",
       "    .dataframe tbody tr th:only-of-type {\n",
       "        vertical-align: middle;\n",
       "    }\n",
       "\n",
       "    .dataframe tbody tr th {\n",
       "        vertical-align: top;\n",
       "    }\n",
       "\n",
       "    .dataframe thead th {\n",
       "        text-align: right;\n",
       "    }\n",
       "</style>\n",
       "<table border=\"1\" class=\"dataframe\">\n",
       "  <thead>\n",
       "    <tr style=\"text-align: right;\">\n",
       "      <th></th>\n",
       "      <th>RowNumber</th>\n",
       "      <th>CustomerId</th>\n",
       "      <th>Surname</th>\n",
       "      <th>CreditScore</th>\n",
       "      <th>Geography</th>\n",
       "      <th>Gender</th>\n",
       "      <th>Age</th>\n",
       "      <th>Tenure</th>\n",
       "      <th>Balance</th>\n",
       "      <th>NumOfProducts</th>\n",
       "      <th>HasCrCard</th>\n",
       "      <th>IsActiveMember</th>\n",
       "      <th>EstimatedSalary</th>\n",
       "      <th>Exited</th>\n",
       "    </tr>\n",
       "  </thead>\n",
       "  <tbody>\n",
       "    <tr>\n",
       "      <th>0</th>\n",
       "      <td>1</td>\n",
       "      <td>15634602</td>\n",
       "      <td>Hargrave</td>\n",
       "      <td>619</td>\n",
       "      <td>France</td>\n",
       "      <td>Female</td>\n",
       "      <td>42</td>\n",
       "      <td>2.0</td>\n",
       "      <td>0.00</td>\n",
       "      <td>1</td>\n",
       "      <td>1</td>\n",
       "      <td>1</td>\n",
       "      <td>101348.88</td>\n",
       "      <td>1</td>\n",
       "    </tr>\n",
       "    <tr>\n",
       "      <th>1</th>\n",
       "      <td>2</td>\n",
       "      <td>15647311</td>\n",
       "      <td>Hill</td>\n",
       "      <td>608</td>\n",
       "      <td>Spain</td>\n",
       "      <td>Female</td>\n",
       "      <td>41</td>\n",
       "      <td>1.0</td>\n",
       "      <td>83807.86</td>\n",
       "      <td>1</td>\n",
       "      <td>0</td>\n",
       "      <td>1</td>\n",
       "      <td>112542.58</td>\n",
       "      <td>0</td>\n",
       "    </tr>\n",
       "    <tr>\n",
       "      <th>2</th>\n",
       "      <td>3</td>\n",
       "      <td>15619304</td>\n",
       "      <td>Onio</td>\n",
       "      <td>502</td>\n",
       "      <td>France</td>\n",
       "      <td>Female</td>\n",
       "      <td>42</td>\n",
       "      <td>8.0</td>\n",
       "      <td>159660.80</td>\n",
       "      <td>3</td>\n",
       "      <td>1</td>\n",
       "      <td>0</td>\n",
       "      <td>113931.57</td>\n",
       "      <td>1</td>\n",
       "    </tr>\n",
       "    <tr>\n",
       "      <th>3</th>\n",
       "      <td>4</td>\n",
       "      <td>15701354</td>\n",
       "      <td>Boni</td>\n",
       "      <td>699</td>\n",
       "      <td>France</td>\n",
       "      <td>Female</td>\n",
       "      <td>39</td>\n",
       "      <td>1.0</td>\n",
       "      <td>0.00</td>\n",
       "      <td>2</td>\n",
       "      <td>0</td>\n",
       "      <td>0</td>\n",
       "      <td>93826.63</td>\n",
       "      <td>0</td>\n",
       "    </tr>\n",
       "    <tr>\n",
       "      <th>4</th>\n",
       "      <td>5</td>\n",
       "      <td>15737888</td>\n",
       "      <td>Mitchell</td>\n",
       "      <td>850</td>\n",
       "      <td>Spain</td>\n",
       "      <td>Female</td>\n",
       "      <td>43</td>\n",
       "      <td>2.0</td>\n",
       "      <td>125510.82</td>\n",
       "      <td>1</td>\n",
       "      <td>1</td>\n",
       "      <td>1</td>\n",
       "      <td>79084.10</td>\n",
       "      <td>0</td>\n",
       "    </tr>\n",
       "    <tr>\n",
       "      <th>5</th>\n",
       "      <td>6</td>\n",
       "      <td>15574012</td>\n",
       "      <td>Chu</td>\n",
       "      <td>645</td>\n",
       "      <td>Spain</td>\n",
       "      <td>Male</td>\n",
       "      <td>44</td>\n",
       "      <td>8.0</td>\n",
       "      <td>113755.78</td>\n",
       "      <td>2</td>\n",
       "      <td>1</td>\n",
       "      <td>0</td>\n",
       "      <td>149756.71</td>\n",
       "      <td>1</td>\n",
       "    </tr>\n",
       "    <tr>\n",
       "      <th>6</th>\n",
       "      <td>7</td>\n",
       "      <td>15592531</td>\n",
       "      <td>Bartlett</td>\n",
       "      <td>822</td>\n",
       "      <td>France</td>\n",
       "      <td>Male</td>\n",
       "      <td>50</td>\n",
       "      <td>7.0</td>\n",
       "      <td>0.00</td>\n",
       "      <td>2</td>\n",
       "      <td>1</td>\n",
       "      <td>1</td>\n",
       "      <td>10062.80</td>\n",
       "      <td>0</td>\n",
       "    </tr>\n",
       "    <tr>\n",
       "      <th>7</th>\n",
       "      <td>8</td>\n",
       "      <td>15656148</td>\n",
       "      <td>Obinna</td>\n",
       "      <td>376</td>\n",
       "      <td>Germany</td>\n",
       "      <td>Female</td>\n",
       "      <td>29</td>\n",
       "      <td>4.0</td>\n",
       "      <td>115046.74</td>\n",
       "      <td>4</td>\n",
       "      <td>1</td>\n",
       "      <td>0</td>\n",
       "      <td>119346.88</td>\n",
       "      <td>1</td>\n",
       "    </tr>\n",
       "    <tr>\n",
       "      <th>8</th>\n",
       "      <td>9</td>\n",
       "      <td>15792365</td>\n",
       "      <td>He</td>\n",
       "      <td>501</td>\n",
       "      <td>France</td>\n",
       "      <td>Male</td>\n",
       "      <td>44</td>\n",
       "      <td>4.0</td>\n",
       "      <td>142051.07</td>\n",
       "      <td>2</td>\n",
       "      <td>0</td>\n",
       "      <td>1</td>\n",
       "      <td>74940.50</td>\n",
       "      <td>0</td>\n",
       "    </tr>\n",
       "    <tr>\n",
       "      <th>9</th>\n",
       "      <td>10</td>\n",
       "      <td>15592389</td>\n",
       "      <td>H?</td>\n",
       "      <td>684</td>\n",
       "      <td>France</td>\n",
       "      <td>Male</td>\n",
       "      <td>27</td>\n",
       "      <td>2.0</td>\n",
       "      <td>134603.88</td>\n",
       "      <td>1</td>\n",
       "      <td>1</td>\n",
       "      <td>1</td>\n",
       "      <td>71725.73</td>\n",
       "      <td>0</td>\n",
       "    </tr>\n",
       "  </tbody>\n",
       "</table>\n",
       "</div>"
      ],
      "text/plain": [
       "   RowNumber  CustomerId   Surname  CreditScore Geography  Gender  Age  \\\n",
       "0          1    15634602  Hargrave          619    France  Female   42   \n",
       "1          2    15647311      Hill          608     Spain  Female   41   \n",
       "2          3    15619304      Onio          502    France  Female   42   \n",
       "3          4    15701354      Boni          699    France  Female   39   \n",
       "4          5    15737888  Mitchell          850     Spain  Female   43   \n",
       "5          6    15574012       Chu          645     Spain    Male   44   \n",
       "6          7    15592531  Bartlett          822    France    Male   50   \n",
       "7          8    15656148    Obinna          376   Germany  Female   29   \n",
       "8          9    15792365        He          501    France    Male   44   \n",
       "9         10    15592389        H?          684    France    Male   27   \n",
       "\n",
       "   Tenure    Balance  NumOfProducts  HasCrCard  IsActiveMember  \\\n",
       "0     2.0       0.00              1          1               1   \n",
       "1     1.0   83807.86              1          0               1   \n",
       "2     8.0  159660.80              3          1               0   \n",
       "3     1.0       0.00              2          0               0   \n",
       "4     2.0  125510.82              1          1               1   \n",
       "5     8.0  113755.78              2          1               0   \n",
       "6     7.0       0.00              2          1               1   \n",
       "7     4.0  115046.74              4          1               0   \n",
       "8     4.0  142051.07              2          0               1   \n",
       "9     2.0  134603.88              1          1               1   \n",
       "\n",
       "   EstimatedSalary  Exited  \n",
       "0        101348.88       1  \n",
       "1        112542.58       0  \n",
       "2        113931.57       1  \n",
       "3         93826.63       0  \n",
       "4         79084.10       0  \n",
       "5        149756.71       1  \n",
       "6         10062.80       0  \n",
       "7        119346.88       1  \n",
       "8         74940.50       0  \n",
       "9         71725.73       0  "
      ]
     },
     "metadata": {},
     "output_type": "display_data"
    },
    {
     "name": "stdout",
     "output_type": "stream",
     "text": [
      "<class 'pandas.core.frame.DataFrame'>\n",
      "RangeIndex: 10000 entries, 0 to 9999\n",
      "Data columns (total 14 columns):\n",
      " #   Column           Non-Null Count  Dtype  \n",
      "---  ------           --------------  -----  \n",
      " 0   RowNumber        10000 non-null  int64  \n",
      " 1   CustomerId       10000 non-null  int64  \n",
      " 2   Surname          10000 non-null  object \n",
      " 3   CreditScore      10000 non-null  int64  \n",
      " 4   Geography        10000 non-null  object \n",
      " 5   Gender           10000 non-null  object \n",
      " 6   Age              10000 non-null  int64  \n",
      " 7   Tenure           9091 non-null   float64\n",
      " 8   Balance          10000 non-null  float64\n",
      " 9   NumOfProducts    10000 non-null  int64  \n",
      " 10  HasCrCard        10000 non-null  int64  \n",
      " 11  IsActiveMember   10000 non-null  int64  \n",
      " 12  EstimatedSalary  10000 non-null  float64\n",
      " 13  Exited           10000 non-null  int64  \n",
      "dtypes: float64(3), int64(8), object(3)\n",
      "memory usage: 1.1+ MB\n"
     ]
    },
    {
     "data": {
      "text/plain": [
       "None"
      ]
     },
     "metadata": {},
     "output_type": "display_data"
    }
   ],
   "source": [
    "df = pd.read_csv('/datasets/Churn.csv')\n",
    "\n",
    "display(df.head(10))\n",
    "display(df.info())"
   ]
  },
  {
   "cell_type": "markdown",
   "metadata": {
    "id": "h1iWDU0ivjsB"
   },
   "source": [
    "Опишем данные, хранящиеся в датасете.\n",
    "\n",
    "Признаки:\n",
    "- RowNumber — индекс строки в данных\n",
    "- CustomerId — уникальный идентификатор клиента\n",
    "- Surname — фамилия\n",
    "- CreditScore — кредитный рейтинг\n",
    "- Geography — страна проживания\n",
    "- Gender — пол\n",
    "- Age — возраст\n",
    "- Tenure — сколько лет человек является клиентом банка\n",
    "- Balance — баланс на счёте\n",
    "- NumOfProducts — количество продуктов банка, используемых клиентом\n",
    "- HasCrCard — наличие кредитной карты\n",
    "- IsActiveMember — активность клиента\n",
    "- EstimatedSalary — предполагаемая зарплата\n",
    "\n",
    "Целевой признак:\n",
    "- Exited — факт ухода клиента\n",
    "\n",
    "Все колонки имеют соответствующий формат данных, поэтому дополнительных корректив не вносим.\n",
    "Для удобства приведем наименования колонок к удобному виду."
   ]
  },
  {
   "cell_type": "code",
   "execution_count": null,
   "metadata": {
    "id": "oGHB1cUhvjsB",
    "outputId": "6f8bbdc8-10f8-4aa8-fde8-dac056b1b6e4"
   },
   "outputs": [
    {
     "data": {
      "text/plain": [
       "row_number            0\n",
       "customer_id           0\n",
       "surname               0\n",
       "credit_score          0\n",
       "geography             0\n",
       "gender                0\n",
       "age                   0\n",
       "tenure              909\n",
       "balance               0\n",
       "num_of_products       0\n",
       "has_cr_card           0\n",
       "is_active_member      0\n",
       "estimated_salary      0\n",
       "exited                0\n",
       "dtype: int64"
      ]
     },
     "metadata": {},
     "output_type": "display_data"
    }
   ],
   "source": [
    "df = df.rename(columns={'RowNumber':'row_number', 'CustomerId':'customer_id', 'Surname':'surname',\n",
    "                        'CreditScore':'credit_score', 'Geography':'geography', 'Gender':'gender', 'Age':'age', \n",
    "                        'Tenure':'tenure', 'Balance':'balance', 'NumOfProducts':'num_of_products', 'HasCrCard':'has_cr_card', \n",
    "                        'IsActiveMember':'is_active_member', 'EstimatedSalary':'estimated_salary', 'Exited':'exited'})\n",
    "display(df.isna().sum())"
   ]
  },
  {
   "cell_type": "markdown",
   "metadata": {
    "id": "3-fABp1SvjsC"
   },
   "source": [
    "Также мы видим, что колонка `tenure` имеет `909` пропущенных значений, что составляет `9%` от общей популяции. Для дальнейшего анализа заполним пропущенные значения медианой."
   ]
  },
  {
   "cell_type": "code",
   "execution_count": null,
   "metadata": {
    "id": "FlljzltbvjsC",
    "outputId": "4f6a3e45-bffb-45f9-8ca4-c5225d0936a3"
   },
   "outputs": [
    {
     "data": {
      "text/plain": [
       "0"
      ]
     },
     "metadata": {},
     "output_type": "display_data"
    }
   ],
   "source": [
    "df['tenure'] = df['tenure'].fillna(df['tenure'].median())\n",
    "display(df['tenure'].isna().sum())"
   ]
  },
  {
   "cell_type": "markdown",
   "metadata": {
    "id": "4_fbePrNvjsD"
   },
   "source": [
    "Колонки `has_cr_card` и `is_active_member` имеют тип int64. Переведем их в булев тип."
   ]
  },
  {
   "cell_type": "code",
   "execution_count": null,
   "metadata": {
    "id": "A_hEAOwlvjsE",
    "outputId": "d9e4d12e-6ba7-42cd-c917-540d59b11362"
   },
   "outputs": [
    {
     "name": "stdout",
     "output_type": "stream",
     "text": [
      "<class 'pandas.core.frame.DataFrame'>\n",
      "RangeIndex: 10000 entries, 0 to 9999\n",
      "Data columns (total 14 columns):\n",
      " #   Column            Non-Null Count  Dtype  \n",
      "---  ------            --------------  -----  \n",
      " 0   row_number        10000 non-null  int64  \n",
      " 1   customer_id       10000 non-null  int64  \n",
      " 2   surname           10000 non-null  object \n",
      " 3   credit_score      10000 non-null  int64  \n",
      " 4   geography         10000 non-null  object \n",
      " 5   gender            10000 non-null  object \n",
      " 6   age               10000 non-null  int64  \n",
      " 7   tenure            10000 non-null  float64\n",
      " 8   balance           10000 non-null  float64\n",
      " 9   num_of_products   10000 non-null  int64  \n",
      " 10  has_cr_card       10000 non-null  bool   \n",
      " 11  is_active_member  10000 non-null  bool   \n",
      " 12  estimated_salary  10000 non-null  float64\n",
      " 13  exited            10000 non-null  int64  \n",
      "dtypes: bool(2), float64(3), int64(6), object(3)\n",
      "memory usage: 957.2+ KB\n"
     ]
    },
    {
     "data": {
      "text/plain": [
       "None"
      ]
     },
     "metadata": {},
     "output_type": "display_data"
    }
   ],
   "source": [
    "df['has_cr_card'] = df['has_cr_card'].astype('bool')\n",
    "df['is_active_member'] = df['has_cr_card'].astype('bool')\n",
    "display(df.info())"
   ]
  },
  {
   "cell_type": "markdown",
   "metadata": {
    "id": "eBMt-MijvjsE"
   },
   "source": [
    "Проверим датасет на явные дупликаты."
   ]
  },
  {
   "cell_type": "code",
   "execution_count": null,
   "metadata": {
    "id": "YXqXr25zvjsF",
    "outputId": "50b626da-925c-4899-e6b3-156f2e62c127"
   },
   "outputs": [
    {
     "data": {
      "text/plain": [
       "0"
      ]
     },
     "execution_count": 21,
     "metadata": {},
     "output_type": "execute_result"
    }
   ],
   "source": [
    "df.duplicated().sum()"
   ]
  },
  {
   "cell_type": "markdown",
   "metadata": {
    "id": "_amvvoNSvjsF"
   },
   "source": [
    "Проверим уникальные значения по колонкам `row_number`, `customer_id` и `estimated_salary`. По остальным колонкам значения могут повторяться."
   ]
  },
  {
   "cell_type": "code",
   "execution_count": null,
   "metadata": {
    "id": "Z804AvyLvjsF",
    "outputId": "be5253eb-894c-46d9-c004-78d9bf8f8632"
   },
   "outputs": [
    {
     "data": {
      "text/plain": [
       "array([    1,     2,     3, ...,  9998,  9999, 10000])"
      ]
     },
     "metadata": {},
     "output_type": "display_data"
    },
    {
     "data": {
      "text/plain": [
       "10000"
      ]
     },
     "metadata": {},
     "output_type": "display_data"
    },
    {
     "data": {
      "text/plain": [
       "9999"
      ]
     },
     "metadata": {},
     "output_type": "display_data"
    }
   ],
   "source": [
    "display(df['row_number'].sort_values().unique())\n",
    "display(len(df['customer_id'].sort_values().unique()))\n",
    "display(len(df['estimated_salary'].sort_values().unique()))"
   ]
  },
  {
   "cell_type": "markdown",
   "metadata": {
    "id": "7hgBk_mOvjsG"
   },
   "source": [
    "Мы видим, что по колонке `row_number` и `customer_id` дупликатов нет. Одно повторение по колонке `estimated_salary` несущественно.\n",
    "Проверим остальные колонки на содержащиеся данные."
   ]
  },
  {
   "cell_type": "code",
   "execution_count": null,
   "metadata": {
    "id": "aLFIdsCGvjsG",
    "outputId": "5b8cc99b-c002-424f-a32e-ca48f29b2cf9"
   },
   "outputs": [
    {
     "data": {
      "text/plain": [
       "array(['France', 'Germany', 'Spain'], dtype=object)"
      ]
     },
     "metadata": {},
     "output_type": "display_data"
    },
    {
     "data": {
      "text/plain": [
       "array(['Female', 'Male'], dtype=object)"
      ]
     },
     "metadata": {},
     "output_type": "display_data"
    },
    {
     "data": {
      "text/plain": [
       "array([18, 19, 20, 21, 22, 23, 24, 25, 26, 27, 28, 29, 30, 31, 32, 33, 34,\n",
       "       35, 36, 37, 38, 39, 40, 41, 42, 43, 44, 45, 46, 47, 48, 49, 50, 51,\n",
       "       52, 53, 54, 55, 56, 57, 58, 59, 60, 61, 62, 63, 64, 65, 66, 67, 68,\n",
       "       69, 70, 71, 72, 73, 74, 75, 76, 77, 78, 79, 80, 81, 82, 83, 84, 85,\n",
       "       88, 92])"
      ]
     },
     "metadata": {},
     "output_type": "display_data"
    },
    {
     "data": {
      "text/plain": [
       "array([1, 2, 3, 4])"
      ]
     },
     "metadata": {},
     "output_type": "display_data"
    },
    {
     "data": {
      "text/plain": [
       "array([ 0.,  1.,  2.,  3.,  4.,  5.,  6.,  7.,  8.,  9., 10.])"
      ]
     },
     "metadata": {},
     "output_type": "display_data"
    },
    {
     "data": {
      "text/plain": [
       "array([0, 1])"
      ]
     },
     "metadata": {},
     "output_type": "display_data"
    }
   ],
   "source": [
    "display(df['geography'].sort_values().unique())\n",
    "display(df['gender'].sort_values().unique())\n",
    "display(df['age'].sort_values().unique())\n",
    "display(df['num_of_products'].sort_values().unique())\n",
    "display(df['tenure'].sort_values().unique())\n",
    "display(df['exited'].sort_values().unique())"
   ]
  },
  {
   "cell_type": "markdown",
   "metadata": {
    "id": "YpSBc-8avjsH"
   },
   "source": [
    "Данные подготовлены, опишем дальнейший порядок действий:\n",
    "1. Исследуем баланс классов, обучим модель без учёта дисбаланса. Опишем выводы по результатам исследования.\n",
    "2. Улучшим качество модели, учитывая дисбаланс классов. Обучим разные модели и найдем лучшую (достигнем F1-меры не менее 0.59, исследуем метрику AUC-ROC). Опишем выводы.\n",
    "3. Проведем финальное тестирование."
   ]
  },
  {
   "cell_type": "markdown",
   "metadata": {
    "id": "yr6nniOGvjsH"
   },
   "source": [
    "## Исследование задачи"
   ]
  },
  {
   "cell_type": "markdown",
   "metadata": {
    "id": "jlRW1lW7vjsI"
   },
   "source": [
    "Исследуем баланс классов, для этого посмотрим как выглядит целевой признак `exited`."
   ]
  },
  {
   "cell_type": "code",
   "execution_count": null,
   "metadata": {
    "id": "4TLuZvXTvjsI",
    "outputId": "dd2b54c0-4d74-4793-b5d3-bc8610f1b186"
   },
   "outputs": [
    {
     "data": {
      "image/png": "[encoded data removed]",
      "text/plain": [
       "<Figure size 432x288 with 1 Axes>"
      ]
     },
     "metadata": {
      "needs_background": "light"
     },
     "output_type": "display_data"
    }
   ],
   "source": [
    "plt.hist(df['exited'], bins = 2)\n",
    "plt.xlabel('Факт ухода клиента')\n",
    "plt.ylabel('Количество')\n",
    "plt.title('Баланс классов')\n",
    "plt.show()"
   ]
  },
  {
   "cell_type": "markdown",
   "metadata": {
    "id": "BpYg8-9svjsI"
   },
   "source": [
    "Мы видим, что наша популяция достаточно несбалансирована, ушедших клиентов около всего `20%` от общей популяции. Это может повлиять на обучение модели. Для дальнейшего сравнения обучим сначала разные модели без учёта дисбаланса и посчитаем для каждой метрику качества F-1.\n",
    "\n",
    "В первую очередь разделим датасет на целевой и остальные признаки, а также разделим выборки на обучающую, валидационную и тестовую в соотношении `3:1:1`."
   ]
  },
  {
   "cell_type": "code",
   "execution_count": null,
   "metadata": {
    "id": "bi1Pq2YXvjsK"
   },
   "outputs": [],
   "source": [
    "numeric = ['credit_score','geography','gender','age','tenure','balance','num_of_products',\n",
    "           'has_cr_card','is_active_member','estimated_salary']\n",
    "features = pd.get_dummies(df[numeric], drop_first=True)\n",
    "target = df['exited']\n",
    "features_train, features_valid, target_train, target_valid = train_test_split(features, target, \n",
    "                                                                              test_size=0.4, random_state=12345)\n",
    "features_valid, features_test, target_valid, target_test = train_test_split(features_valid, target_valid,\n",
    "                                                                            test_size=0.5, random_state=12345)"
   ]
  },
  {
   "cell_type": "code",
   "execution_count": null,
   "metadata": {
    "id": "HhJkWLqXvjsK",
    "outputId": "65fda177-153c-48b5-bebc-dec915b2731e"
   },
   "outputs": [
    {
     "data": {
      "text/html": [
       "<div>\n",
       "<style scoped>\n",
       "    .dataframe tbody tr th:only-of-type {\n",
       "        vertical-align: middle;\n",
       "    }\n",
       "\n",
       "    .dataframe tbody tr th {\n",
       "        vertical-align: top;\n",
       "    }\n",
       "\n",
       "    .dataframe thead th {\n",
       "        text-align: right;\n",
       "    }\n",
       "</style>\n",
       "<table border=\"1\" class=\"dataframe\">\n",
       "  <thead>\n",
       "    <tr style=\"text-align: right;\">\n",
       "      <th></th>\n",
       "      <th>credit_score</th>\n",
       "      <th>age</th>\n",
       "      <th>tenure</th>\n",
       "      <th>balance</th>\n",
       "      <th>num_of_products</th>\n",
       "      <th>has_cr_card</th>\n",
       "      <th>is_active_member</th>\n",
       "      <th>estimated_salary</th>\n",
       "      <th>geography_Germany</th>\n",
       "      <th>geography_Spain</th>\n",
       "      <th>gender_Male</th>\n",
       "    </tr>\n",
       "  </thead>\n",
       "  <tbody>\n",
       "    <tr>\n",
       "      <th>0</th>\n",
       "      <td>619</td>\n",
       "      <td>42</td>\n",
       "      <td>2.0</td>\n",
       "      <td>0.00</td>\n",
       "      <td>1</td>\n",
       "      <td>True</td>\n",
       "      <td>True</td>\n",
       "      <td>101348.88</td>\n",
       "      <td>0</td>\n",
       "      <td>0</td>\n",
       "      <td>0</td>\n",
       "    </tr>\n",
       "    <tr>\n",
       "      <th>1</th>\n",
       "      <td>608</td>\n",
       "      <td>41</td>\n",
       "      <td>1.0</td>\n",
       "      <td>83807.86</td>\n",
       "      <td>1</td>\n",
       "      <td>False</td>\n",
       "      <td>False</td>\n",
       "      <td>112542.58</td>\n",
       "      <td>0</td>\n",
       "      <td>1</td>\n",
       "      <td>0</td>\n",
       "    </tr>\n",
       "    <tr>\n",
       "      <th>2</th>\n",
       "      <td>502</td>\n",
       "      <td>42</td>\n",
       "      <td>8.0</td>\n",
       "      <td>159660.80</td>\n",
       "      <td>3</td>\n",
       "      <td>True</td>\n",
       "      <td>True</td>\n",
       "      <td>113931.57</td>\n",
       "      <td>0</td>\n",
       "      <td>0</td>\n",
       "      <td>0</td>\n",
       "    </tr>\n",
       "    <tr>\n",
       "      <th>3</th>\n",
       "      <td>699</td>\n",
       "      <td>39</td>\n",
       "      <td>1.0</td>\n",
       "      <td>0.00</td>\n",
       "      <td>2</td>\n",
       "      <td>False</td>\n",
       "      <td>False</td>\n",
       "      <td>93826.63</td>\n",
       "      <td>0</td>\n",
       "      <td>0</td>\n",
       "      <td>0</td>\n",
       "    </tr>\n",
       "    <tr>\n",
       "      <th>4</th>\n",
       "      <td>850</td>\n",
       "      <td>43</td>\n",
       "      <td>2.0</td>\n",
       "      <td>125510.82</td>\n",
       "      <td>1</td>\n",
       "      <td>True</td>\n",
       "      <td>True</td>\n",
       "      <td>79084.10</td>\n",
       "      <td>0</td>\n",
       "      <td>1</td>\n",
       "      <td>0</td>\n",
       "    </tr>\n",
       "    <tr>\n",
       "      <th>...</th>\n",
       "      <td>...</td>\n",
       "      <td>...</td>\n",
       "      <td>...</td>\n",
       "      <td>...</td>\n",
       "      <td>...</td>\n",
       "      <td>...</td>\n",
       "      <td>...</td>\n",
       "      <td>...</td>\n",
       "      <td>...</td>\n",
       "      <td>...</td>\n",
       "      <td>...</td>\n",
       "    </tr>\n",
       "    <tr>\n",
       "      <th>9995</th>\n",
       "      <td>771</td>\n",
       "      <td>39</td>\n",
       "      <td>5.0</td>\n",
       "      <td>0.00</td>\n",
       "      <td>2</td>\n",
       "      <td>True</td>\n",
       "      <td>True</td>\n",
       "      <td>96270.64</td>\n",
       "      <td>0</td>\n",
       "      <td>0</td>\n",
       "      <td>1</td>\n",
       "    </tr>\n",
       "    <tr>\n",
       "      <th>9996</th>\n",
       "      <td>516</td>\n",
       "      <td>35</td>\n",
       "      <td>10.0</td>\n",
       "      <td>57369.61</td>\n",
       "      <td>1</td>\n",
       "      <td>True</td>\n",
       "      <td>True</td>\n",
       "      <td>101699.77</td>\n",
       "      <td>0</td>\n",
       "      <td>0</td>\n",
       "      <td>1</td>\n",
       "    </tr>\n",
       "    <tr>\n",
       "      <th>9997</th>\n",
       "      <td>709</td>\n",
       "      <td>36</td>\n",
       "      <td>7.0</td>\n",
       "      <td>0.00</td>\n",
       "      <td>1</td>\n",
       "      <td>False</td>\n",
       "      <td>False</td>\n",
       "      <td>42085.58</td>\n",
       "      <td>0</td>\n",
       "      <td>0</td>\n",
       "      <td>0</td>\n",
       "    </tr>\n",
       "    <tr>\n",
       "      <th>9998</th>\n",
       "      <td>772</td>\n",
       "      <td>42</td>\n",
       "      <td>3.0</td>\n",
       "      <td>75075.31</td>\n",
       "      <td>2</td>\n",
       "      <td>True</td>\n",
       "      <td>True</td>\n",
       "      <td>92888.52</td>\n",
       "      <td>1</td>\n",
       "      <td>0</td>\n",
       "      <td>1</td>\n",
       "    </tr>\n",
       "    <tr>\n",
       "      <th>9999</th>\n",
       "      <td>792</td>\n",
       "      <td>28</td>\n",
       "      <td>5.0</td>\n",
       "      <td>130142.79</td>\n",
       "      <td>1</td>\n",
       "      <td>True</td>\n",
       "      <td>True</td>\n",
       "      <td>38190.78</td>\n",
       "      <td>0</td>\n",
       "      <td>0</td>\n",
       "      <td>0</td>\n",
       "    </tr>\n",
       "  </tbody>\n",
       "</table>\n",
       "<p>10000 rows × 11 columns</p>\n",
       "</div>"
      ],
      "text/plain": [
       "      credit_score  age  tenure    balance  num_of_products  has_cr_card  \\\n",
       "0              619   42     2.0       0.00                1         True   \n",
       "1              608   41     1.0   83807.86                1        False   \n",
       "2              502   42     8.0  159660.80                3         True   \n",
       "3              699   39     1.0       0.00                2        False   \n",
       "4              850   43     2.0  125510.82                1         True   \n",
       "...            ...  ...     ...        ...              ...          ...   \n",
       "9995           771   39     5.0       0.00                2         True   \n",
       "9996           516   35    10.0   57369.61                1         True   \n",
       "9997           709   36     7.0       0.00                1        False   \n",
       "9998           772   42     3.0   75075.31                2         True   \n",
       "9999           792   28     5.0  130142.79                1         True   \n",
       "\n",
       "      is_active_member  estimated_salary  geography_Germany  geography_Spain  \\\n",
       "0                 True         101348.88                  0                0   \n",
       "1                False         112542.58                  0                1   \n",
       "2                 True         113931.57                  0                0   \n",
       "3                False          93826.63                  0                0   \n",
       "4                 True          79084.10                  0                1   \n",
       "...                ...               ...                ...              ...   \n",
       "9995              True          96270.64                  0                0   \n",
       "9996              True         101699.77                  0                0   \n",
       "9997             False          42085.58                  0                0   \n",
       "9998              True          92888.52                  1                0   \n",
       "9999              True          38190.78                  0                0   \n",
       "\n",
       "      gender_Male  \n",
       "0               0  \n",
       "1               0  \n",
       "2               0  \n",
       "3               0  \n",
       "4               0  \n",
       "...           ...  \n",
       "9995            1  \n",
       "9996            1  \n",
       "9997            0  \n",
       "9998            1  \n",
       "9999            0  \n",
       "\n",
       "[10000 rows x 11 columns]"
      ]
     },
     "execution_count": 26,
     "metadata": {},
     "output_type": "execute_result"
    }
   ],
   "source": [
    "features"
   ]
  },
  {
   "cell_type": "markdown",
   "metadata": {
    "id": "7ShlUPPPvjsL"
   },
   "source": [
    "Для дальнейшей работы масштабируем признаки."
   ]
  },
  {
   "cell_type": "code",
   "execution_count": null,
   "metadata": {
    "id": "YCl5tdCcvjsL"
   },
   "outputs": [],
   "source": [
    "scaler = StandardScaler()\n",
    "numeric = ['credit_score','age','tenure','balance','num_of_products',\n",
    "           'has_cr_card','is_active_member','estimated_salary']\n",
    "scaler.fit(features_train[numeric])\n",
    "features_train[numeric] = scaler.transform(features_train[numeric])\n",
    "features_valid[numeric] = scaler.transform(features_valid[numeric])\n",
    "features_test[numeric] = scaler.transform(features_test[numeric])\n",
    "pd.options.mode.chained_assignment = None"
   ]
  },
  {
   "cell_type": "code",
   "execution_count": null,
   "metadata": {
    "id": "1yfXVWqgvjsY",
    "outputId": "e1014668-e334-47f5-8878-565f3284f014"
   },
   "outputs": [
    {
     "data": {
      "text/html": [
       "<div>\n",
       "<style scoped>\n",
       "    .dataframe tbody tr th:only-of-type {\n",
       "        vertical-align: middle;\n",
       "    }\n",
       "\n",
       "    .dataframe tbody tr th {\n",
       "        vertical-align: top;\n",
       "    }\n",
       "\n",
       "    .dataframe thead th {\n",
       "        text-align: right;\n",
       "    }\n",
       "</style>\n",
       "<table border=\"1\" class=\"dataframe\">\n",
       "  <thead>\n",
       "    <tr style=\"text-align: right;\">\n",
       "      <th></th>\n",
       "      <th>credit_score</th>\n",
       "      <th>age</th>\n",
       "      <th>tenure</th>\n",
       "      <th>balance</th>\n",
       "      <th>num_of_products</th>\n",
       "      <th>has_cr_card</th>\n",
       "      <th>is_active_member</th>\n",
       "      <th>estimated_salary</th>\n",
       "      <th>geography_Germany</th>\n",
       "      <th>geography_Spain</th>\n",
       "      <th>gender_Male</th>\n",
       "    </tr>\n",
       "  </thead>\n",
       "  <tbody>\n",
       "    <tr>\n",
       "      <th>7479</th>\n",
       "      <td>-0.886751</td>\n",
       "      <td>-0.373192</td>\n",
       "      <td>1.082277</td>\n",
       "      <td>1.232271</td>\n",
       "      <td>-0.891560</td>\n",
       "      <td>0.642466</td>\n",
       "      <td>0.642466</td>\n",
       "      <td>-0.187705</td>\n",
       "      <td>0</td>\n",
       "      <td>1</td>\n",
       "      <td>1</td>\n",
       "    </tr>\n",
       "    <tr>\n",
       "      <th>3411</th>\n",
       "      <td>0.608663</td>\n",
       "      <td>-0.183385</td>\n",
       "      <td>1.082277</td>\n",
       "      <td>0.600563</td>\n",
       "      <td>-0.891560</td>\n",
       "      <td>-1.556504</td>\n",
       "      <td>-1.556504</td>\n",
       "      <td>-0.333945</td>\n",
       "      <td>0</td>\n",
       "      <td>0</td>\n",
       "      <td>0</td>\n",
       "    </tr>\n",
       "    <tr>\n",
       "      <th>6027</th>\n",
       "      <td>2.052152</td>\n",
       "      <td>0.480939</td>\n",
       "      <td>-0.737696</td>\n",
       "      <td>1.027098</td>\n",
       "      <td>0.830152</td>\n",
       "      <td>-1.556504</td>\n",
       "      <td>-1.556504</td>\n",
       "      <td>1.503095</td>\n",
       "      <td>1</td>\n",
       "      <td>0</td>\n",
       "      <td>1</td>\n",
       "    </tr>\n",
       "    <tr>\n",
       "      <th>1247</th>\n",
       "      <td>-1.457915</td>\n",
       "      <td>-1.417129</td>\n",
       "      <td>0.354288</td>\n",
       "      <td>-1.233163</td>\n",
       "      <td>0.830152</td>\n",
       "      <td>0.642466</td>\n",
       "      <td>0.642466</td>\n",
       "      <td>-1.071061</td>\n",
       "      <td>0</td>\n",
       "      <td>0</td>\n",
       "      <td>1</td>\n",
       "    </tr>\n",
       "    <tr>\n",
       "      <th>3716</th>\n",
       "      <td>0.130961</td>\n",
       "      <td>-1.132419</td>\n",
       "      <td>-1.101690</td>\n",
       "      <td>1.140475</td>\n",
       "      <td>-0.891560</td>\n",
       "      <td>-1.556504</td>\n",
       "      <td>-1.556504</td>\n",
       "      <td>1.524268</td>\n",
       "      <td>1</td>\n",
       "      <td>0</td>\n",
       "      <td>0</td>\n",
       "    </tr>\n",
       "    <tr>\n",
       "      <th>...</th>\n",
       "      <td>...</td>\n",
       "      <td>...</td>\n",
       "      <td>...</td>\n",
       "      <td>...</td>\n",
       "      <td>...</td>\n",
       "      <td>...</td>\n",
       "      <td>...</td>\n",
       "      <td>...</td>\n",
       "      <td>...</td>\n",
       "      <td>...</td>\n",
       "      <td>...</td>\n",
       "    </tr>\n",
       "    <tr>\n",
       "      <th>4478</th>\n",
       "      <td>-1.073677</td>\n",
       "      <td>-0.752805</td>\n",
       "      <td>-0.373701</td>\n",
       "      <td>-1.233163</td>\n",
       "      <td>0.830152</td>\n",
       "      <td>-1.556504</td>\n",
       "      <td>-1.556504</td>\n",
       "      <td>-1.278361</td>\n",
       "      <td>0</td>\n",
       "      <td>0</td>\n",
       "      <td>1</td>\n",
       "    </tr>\n",
       "    <tr>\n",
       "      <th>4094</th>\n",
       "      <td>-1.447531</td>\n",
       "      <td>-0.942612</td>\n",
       "      <td>1.810266</td>\n",
       "      <td>-1.233163</td>\n",
       "      <td>0.830152</td>\n",
       "      <td>-1.556504</td>\n",
       "      <td>-1.556504</td>\n",
       "      <td>-1.281307</td>\n",
       "      <td>0</td>\n",
       "      <td>0</td>\n",
       "      <td>1</td>\n",
       "    </tr>\n",
       "    <tr>\n",
       "      <th>3492</th>\n",
       "      <td>0.027113</td>\n",
       "      <td>0.575842</td>\n",
       "      <td>-0.009707</td>\n",
       "      <td>-0.310229</td>\n",
       "      <td>-0.891560</td>\n",
       "      <td>-1.556504</td>\n",
       "      <td>-1.556504</td>\n",
       "      <td>-0.903158</td>\n",
       "      <td>0</td>\n",
       "      <td>0</td>\n",
       "      <td>0</td>\n",
       "    </tr>\n",
       "    <tr>\n",
       "      <th>2177</th>\n",
       "      <td>0.151731</td>\n",
       "      <td>-1.417129</td>\n",
       "      <td>-0.373701</td>\n",
       "      <td>-1.233163</td>\n",
       "      <td>0.830152</td>\n",
       "      <td>-1.556504</td>\n",
       "      <td>-1.556504</td>\n",
       "      <td>-1.128539</td>\n",
       "      <td>0</td>\n",
       "      <td>0</td>\n",
       "      <td>0</td>\n",
       "    </tr>\n",
       "    <tr>\n",
       "      <th>4578</th>\n",
       "      <td>0.400966</td>\n",
       "      <td>-0.088482</td>\n",
       "      <td>-1.465685</td>\n",
       "      <td>-1.233163</td>\n",
       "      <td>0.830152</td>\n",
       "      <td>-1.556504</td>\n",
       "      <td>-1.556504</td>\n",
       "      <td>-0.949841</td>\n",
       "      <td>0</td>\n",
       "      <td>0</td>\n",
       "      <td>1</td>\n",
       "    </tr>\n",
       "  </tbody>\n",
       "</table>\n",
       "<p>6000 rows × 11 columns</p>\n",
       "</div>"
      ],
      "text/plain": [
       "      credit_score       age    tenure   balance  num_of_products  \\\n",
       "7479     -0.886751 -0.373192  1.082277  1.232271        -0.891560   \n",
       "3411      0.608663 -0.183385  1.082277  0.600563        -0.891560   \n",
       "6027      2.052152  0.480939 -0.737696  1.027098         0.830152   \n",
       "1247     -1.457915 -1.417129  0.354288 -1.233163         0.830152   \n",
       "3716      0.130961 -1.132419 -1.101690  1.140475        -0.891560   \n",
       "...            ...       ...       ...       ...              ...   \n",
       "4478     -1.073677 -0.752805 -0.373701 -1.233163         0.830152   \n",
       "4094     -1.447531 -0.942612  1.810266 -1.233163         0.830152   \n",
       "3492      0.027113  0.575842 -0.009707 -0.310229        -0.891560   \n",
       "2177      0.151731 -1.417129 -0.373701 -1.233163         0.830152   \n",
       "4578      0.400966 -0.088482 -1.465685 -1.233163         0.830152   \n",
       "\n",
       "      has_cr_card  is_active_member  estimated_salary  geography_Germany  \\\n",
       "7479     0.642466          0.642466         -0.187705                  0   \n",
       "3411    -1.556504         -1.556504         -0.333945                  0   \n",
       "6027    -1.556504         -1.556504          1.503095                  1   \n",
       "1247     0.642466          0.642466         -1.071061                  0   \n",
       "3716    -1.556504         -1.556504          1.524268                  1   \n",
       "...           ...               ...               ...                ...   \n",
       "4478    -1.556504         -1.556504         -1.278361                  0   \n",
       "4094    -1.556504         -1.556504         -1.281307                  0   \n",
       "3492    -1.556504         -1.556504         -0.903158                  0   \n",
       "2177    -1.556504         -1.556504         -1.128539                  0   \n",
       "4578    -1.556504         -1.556504         -0.949841                  0   \n",
       "\n",
       "      geography_Spain  gender_Male  \n",
       "7479                1            1  \n",
       "3411                0            0  \n",
       "6027                0            1  \n",
       "1247                0            1  \n",
       "3716                0            0  \n",
       "...               ...          ...  \n",
       "4478                0            1  \n",
       "4094                0            1  \n",
       "3492                0            0  \n",
       "2177                0            0  \n",
       "4578                0            1  \n",
       "\n",
       "[6000 rows x 11 columns]"
      ]
     },
     "execution_count": 28,
     "metadata": {},
     "output_type": "execute_result"
    }
   ],
   "source": [
    "features_train"
   ]
  },
  {
   "cell_type": "markdown",
   "metadata": {
    "id": "1zbGCfgMvjsZ"
   },
   "source": [
    "Теперь обучим модель без учета дисбаланса. Поскольку данная задача относится к задаче классификации, найдем для моделей `Решающее дерево`, `Случайный лес` и `Логистическая регрессия` параметры, показывающие наилучшее качество для дальнейшего сравнения с результатами после устранения дисбаланса.\n",
    "\n",
    "- Решающее дерево\n",
    "\n",
    "Обучим модель и определим значение гиперпараметра `depth`, дающее лучшее качество."
   ]
  },
  {
   "cell_type": "code",
   "execution_count": null,
   "metadata": {
    "id": "kHXg3TnivjsZ",
    "outputId": "6ea9da01-1aa0-42b7-afb0-902ae1bf500c"
   },
   "outputs": [
    {
     "name": "stdout",
     "output_type": "stream",
     "text": [
      "Best depth: 5\n",
      "Best F1: 0.5157232704402516\n",
      "Best AUC-ROC: 0.8201424216212293\n"
     ]
    }
   ],
   "source": [
    "best_depth = 0\n",
    "best_result = 0\n",
    "best_auc_roc = 0\n",
    "for depth in range(1, 10):\n",
    "    model = DecisionTreeClassifier(random_state=12345, max_depth=depth)\n",
    "    model.fit(features_train, target_train)\n",
    "    predictions_valid = model.predict(features_valid)\n",
    "    result = f1_score(target_valid, predictions_valid)\n",
    "    if result > best_result:\n",
    "        best_result = result\n",
    "        best_depth = depth\n",
    "        probabilities_valid = model.predict_proba(features_valid)\n",
    "        probabilities_one_valid = probabilities_valid[:, 1]\n",
    "        best_auc_roc = roc_auc_score(target_valid, probabilities_one_valid)\n",
    "print('Best depth:', best_depth)\n",
    "print('Best F1:', best_result)\n",
    "print('Best AUC-ROC:', best_auc_roc)"
   ]
  },
  {
   "cell_type": "markdown",
   "metadata": {
    "id": "fdnI4JYQvjsa"
   },
   "source": [
    "Наибольшее гармоническое полноты и точности обученной модели показывает глубина со значением `5`. Метрика F1 без балансировки классов составляет `0.52` и показывает средние результаты качества данной модели. Метрика AUC-ROC данной модели выше, чем F1 и составляет `0.82` - достаточно хороший показатель.\n",
    "\n",
    "- Случайный лес\n",
    "\n",
    "Обучим модель и определим значение гиперпараметров `n_estimators` и `depth`, дающее лучшее качество."
   ]
  },
  {
   "cell_type": "code",
   "execution_count": null,
   "metadata": {
    "id": "l7thvOaUvjsa",
    "outputId": "3c44e04b-c8eb-4ff7-d13f-9873e06f942c"
   },
   "outputs": [
    {
     "name": "stdout",
     "output_type": "stream",
     "text": [
      "Best count estimators: 40\n",
      "Best count depth: 10\n",
      "Best F1: 0.5207667731629392\n",
      "Best AUC-ROC: 0.8410043612651903\n"
     ]
    }
   ],
   "source": [
    "best_result = 0\n",
    "best_est = 0\n",
    "best_depth = 0\n",
    "for est in range(10, 51, 10):\n",
    "    for depth in range (1, 11):\n",
    "        model = RandomForestClassifier(random_state=12345, n_estimators=est, max_depth=depth)\n",
    "        model.fit(features_train, target_train) \n",
    "        predictions_valid = model.predict(features_valid) \n",
    "        result = f1_score(target_valid, predictions_valid)\n",
    "        if result > best_result:\n",
    "            best_result = result\n",
    "            best_est = est\n",
    "            best_depth = depth\n",
    "            probabilities_valid = model.predict_proba(features_valid)\n",
    "            probabilities_one_valid = probabilities_valid[:, 1]\n",
    "            best_auc_roc = roc_auc_score(target_valid, probabilities_one_valid)\n",
    "print('Best count estimators:', best_est)\n",
    "print('Best count depth:', best_depth)\n",
    "print('Best F1:', best_result)\n",
    "print('Best AUC-ROC:', best_auc_roc)"
   ]
  },
  {
   "cell_type": "markdown",
   "metadata": {
    "id": "yK4R3yhJvjsa"
   },
   "source": [
    "Наибольшее гармоническое полноты и точности обученной модели без балансировки классов показывают глубина со значением `10` и количество деревьев `40`. Метрика F1 без балансировки классов также составляет `0.52` и показывает средние результаты качества данной модели. Метрика AUC-ROC составляет `0.84`, что выше, чем у решающего дерева.\n",
    "\n",
    "- Логистическая регрессия"
   ]
  },
  {
   "cell_type": "code",
   "execution_count": null,
   "metadata": {
    "id": "V5nvBYx-vjsb",
    "outputId": "b60e80ec-e764-4d11-cd6f-bb21dbe5518a"
   },
   "outputs": [
    {
     "name": "stdout",
     "output_type": "stream",
     "text": [
      "Best F1: 0.18761726078799248\n",
      "AUC-ROC: 0.8410043612651903\n"
     ]
    }
   ],
   "source": [
    "model = LogisticRegression(random_state=12345, solver='lbfgs')\n",
    "model.fit(features_train, target_train)\n",
    "predictions_valid = model.predict(features_valid)\n",
    "result = f1_score(target_valid, predictions_valid)\n",
    "print('Best F1:', result)\n",
    "\n",
    "probabilities_valid = model.predict_proba(features_valid)\n",
    "probabilities_one_valid = probabilities_valid[:, 1]\n",
    "auc_roc = roc_auc_score(target_valid, probabilities_one_valid)\n",
    "print('AUC-ROC:', best_auc_roc)"
   ]
  },
  {
   "cell_type": "markdown",
   "metadata": {
    "id": "PcWfBK0qvjsb"
   },
   "source": [
    "Метрика F1 в данном случае без балансировки классов показывает `0.19`, что указывает на то, что модель обучилась очень плохо. AUC-ROC также составляет `0.84`, но это не спасает ситуацию при таком показателе F1.\n",
    "\n",
    "Проведем балансировку классов и посмотрим на результаты обучения данных моделей с учетом нее."
   ]
  },
  {
   "cell_type": "markdown",
   "metadata": {
    "id": "eA6YJPnnvjsc"
   },
   "source": [
    "## Борьба с дисбалансом"
   ]
  },
  {
   "cell_type": "markdown",
   "metadata": {
    "id": "W-YMRzaHvjsc"
   },
   "source": [
    "Ранее мы выявили, что количество ушедших клиентов составляет `20%` от общего числа клиентов. Таким образом дисбаланс классов очень велик. Это влият как на то, что модели недостаточно хорошо обучаются из-за недостатка ответов `1`, когда клиент уходит, так и на то, что в ту же выборку для обучения может попасть совсем мало значений `1` для обучения.\n",
    "\n",
    "Попробуем несколько вариантов балансировки и выберем лучший.\n",
    "\n",
    "### Взвешивание классов\n",
    "\n",
    "Добавим гиперпараметр `class_weight` с значением `'balanced'` для того, чтобы алгоритмы машинного обучения самостоятельно определили что редко встречается и определяли такие элементы как более важные.\n",
    "\n",
    "- Решающее дерево"
   ]
  },
  {
   "cell_type": "code",
   "execution_count": null,
   "metadata": {
    "id": "w9QhuCpvvjsc",
    "outputId": "2f59f6fe-dba8-4561-882d-a02f5cff4e44"
   },
   "outputs": [
    {
     "name": "stdout",
     "output_type": "stream",
     "text": [
      "Best depth: 4\n",
      "Best F1: 0.5671936758893281\n",
      "Best AUC-ROC: 0.8094366043830412\n"
     ]
    }
   ],
   "source": [
    "best_depth = 0\n",
    "best_result = 0\n",
    "for depth in range(1, 10):\n",
    "    model = DecisionTreeClassifier(random_state=12345, max_depth=depth, class_weight='balanced')\n",
    "    model.fit(features_train, target_train)\n",
    "    predictions_valid = model.predict(features_valid)\n",
    "    result = f1_score(target_valid, predictions_valid)\n",
    "    if result > best_result:\n",
    "        best_result = result\n",
    "        best_depth = depth\n",
    "        probabilities_valid = model.predict_proba(features_valid)\n",
    "        probabilities_one_valid = probabilities_valid[:, 1]\n",
    "        best_auc_roc = roc_auc_score(target_valid, probabilities_one_valid)\n",
    "print('Best depth:', best_depth)\n",
    "print('Best F1:', best_result)\n",
    "print('Best AUC-ROC:', best_auc_roc)"
   ]
  },
  {
   "cell_type": "markdown",
   "metadata": {
    "id": "CdinffSOvjsd"
   },
   "source": [
    "При взвешивании классов результат `Решающего дерева` улучшился, метрика качества F1 показывает значение `0.57` против `0.52` до взвешивания, хотя разницу нельзя назвать существенной. Метрика AUC-ROC немного упала со значения `0.82` до `0.81`.\n",
    "\n",
    "- Случайный лес"
   ]
  },
  {
   "cell_type": "code",
   "execution_count": null,
   "metadata": {
    "id": "BDyKn-CQvjsd",
    "outputId": "4d87a1cd-ee74-4765-c1b4-a274c3f1169c"
   },
   "outputs": [
    {
     "name": "stdout",
     "output_type": "stream",
     "text": [
      "Best count estimators: 30\n",
      "Best count depth: 6\n",
      "Best F1: 0.6205533596837945\n",
      "Best AUC-ROC: 0.8413922477150236\n"
     ]
    }
   ],
   "source": [
    "best_result = 0\n",
    "best_est = 0\n",
    "best_depth = 0\n",
    "for est in range(10, 51, 10):\n",
    "    for depth in range (1, 21):\n",
    "        model = RandomForestClassifier(random_state=12345, n_estimators=est, max_depth=depth, class_weight='balanced')\n",
    "        model.fit(features_train, target_train) \n",
    "        predictions_valid = model.predict(features_valid) \n",
    "        result = f1_score(target_valid, predictions_valid)\n",
    "        if result > best_result:\n",
    "            best_result = result\n",
    "            best_est = est\n",
    "            best_depth = depth\n",
    "            probabilities_valid = model.predict_proba(features_valid)\n",
    "            probabilities_one_valid = probabilities_valid[:, 1]\n",
    "            best_auc_roc = roc_auc_score(target_valid, probabilities_one_valid)\n",
    "print('Best count estimators:', best_est)\n",
    "print('Best count depth:', best_depth)\n",
    "print('Best F1:', best_result)\n",
    "print('Best AUC-ROC:', best_auc_roc)"
   ]
  },
  {
   "cell_type": "markdown",
   "metadata": {
    "id": "aPxVZtlxvjse"
   },
   "source": [
    "При взвешивании классов результат `Решающего дерева` гораздо лучше, метрика качества F1 показывает значение `0.62` против `0.52` до балансировки. Мы видим заметное улучшение качества данной модели в результате взвешивания. Метрика AUC-ROC не изменилась и все также составляет `0.84`.\n",
    "\n",
    "- Логистическая регрессия"
   ]
  },
  {
   "cell_type": "code",
   "execution_count": null,
   "metadata": {
    "id": "xMxovfYqvjse",
    "outputId": "c62a8616-7cf3-4c5c-d433-45c92c85d7bb"
   },
   "outputs": [
    {
     "name": "stdout",
     "output_type": "stream",
     "text": [
      "F1: 0.49528706083976004\n",
      "AUC-ROC: 0.8413922477150236\n"
     ]
    }
   ],
   "source": [
    "model = LogisticRegression(random_state=12345, solver='lbfgs', class_weight='balanced')\n",
    "model.fit(features_train, target_train)\n",
    "predictions_valid = model.predict(features_valid)\n",
    "result = f1_score(target_valid, predictions_valid)\n",
    "print('F1:', result)\n",
    "\n",
    "probabilities_valid = model.predict_proba(features_valid)\n",
    "probabilities_one_valid = probabilities_valid[:, 1]\n",
    "auc_roc = roc_auc_score(target_valid, probabilities_one_valid)\n",
    "print('AUC-ROC:', best_auc_roc)"
   ]
  },
  {
   "cell_type": "markdown",
   "metadata": {
    "id": "UB0WfQIDvjse"
   },
   "source": [
    "До взвешивания метрика качества F1 показывала значение `0.19`. Результат после взвешивания составляет `0.5`, что не является показателем высокого качества модели, однако показывает хорошей прогресс модели и влияние взвешивания на обучение. Метрика AUC-ROC также не изменилась и осталась `0.84`.\n",
    "\n",
    "Исследуем также реакцию моделей на изменение размера выборки."
   ]
  },
  {
   "cell_type": "markdown",
   "metadata": {
    "id": "LuJKgfCHvjsf"
   },
   "source": [
    "\n",
    "### Увеличение выборки\n",
    "\n",
    "Поскольку исходный датасет содержит небольшое количество записей, на которых могут учиться модели (всего `10 000`), лучшим решением будет прибегнуть к увеличению выборки, а не к уменьшению. Напишем соответствующую функцию, которая будет возвращать перемешанную увеличенную популяцию признаков и ответов."
   ]
  },
  {
   "cell_type": "code",
   "execution_count": null,
   "metadata": {
    "id": "BsWVe4C7vjsf"
   },
   "outputs": [],
   "source": [
    "def upsample(features, target, repeat):\n",
    "    features_zeros = features[target == 0]\n",
    "    features_ones = features[target == 1]\n",
    "    target_zeros = target[target == 0]\n",
    "    target_ones = target[target == 1]\n",
    "\n",
    "    features_upsampled = pd.concat([features_zeros] + [features_ones] * repeat)\n",
    "    target_upsampled = pd.concat([target_zeros] + [target_ones] * repeat)\n",
    "    \n",
    "    features_upsampled, target_upsampled = shuffle(\n",
    "        features_upsampled, target_upsampled, random_state=12345)\n",
    "    \n",
    "    return features_upsampled, target_upsampled"
   ]
  },
  {
   "cell_type": "code",
   "execution_count": null,
   "metadata": {
    "id": "qEGtIe8Tvjsf",
    "outputId": "54e08730-941f-46ca-9ad1-edc777c4e7a8"
   },
   "outputs": [
    {
     "name": "stdout",
     "output_type": "stream",
     "text": [
      "Кол-во клиентов итого: 2000\n",
      "Кол-во ушедших клиентов 423\n"
     ]
    }
   ],
   "source": [
    "print('Кол-во клиентов итого:', target_test.count())\n",
    "print('Кол-во ушедших клиентов', target_test.sum())"
   ]
  },
  {
   "cell_type": "markdown",
   "metadata": {
    "id": "0jqJ-IU8vjsg"
   },
   "source": [
    "Для того, чтобы тренировочная не осталась в дисбалансе по ушедшим клиентам, проведем увеличение выборки для общей совокупности."
   ]
  },
  {
   "cell_type": "code",
   "execution_count": null,
   "metadata": {
    "id": "cjMp6OAnvjsg"
   },
   "outputs": [],
   "source": [
    "features_train, target_train = upsample(features_train, target_train, 4)"
   ]
  },
  {
   "cell_type": "markdown",
   "metadata": {
    "id": "BusdwSa3vjsi"
   },
   "source": [
    "- Решающее дерево"
   ]
  },
  {
   "cell_type": "code",
   "execution_count": null,
   "metadata": {
    "id": "MPR3Ulmwvjsi",
    "outputId": "1370b5ba-c513-48d7-f018-e4a38b3a86b0"
   },
   "outputs": [
    {
     "name": "stdout",
     "output_type": "stream",
     "text": [
      "Best depth: 4\n",
      "Best F1: 0.5671936758893281\n",
      "Best AUC-ROC: 0.8094366043830412\n"
     ]
    }
   ],
   "source": [
    "best_depth = 0\n",
    "best_result = 0\n",
    "for depth in range(1, 10):\n",
    "    model = DecisionTreeClassifier(random_state=12345, max_depth=depth)\n",
    "    model.fit(features_train, target_train)\n",
    "    predictions_valid = model.predict(features_valid)\n",
    "    result = f1_score(target_valid, predictions_valid)\n",
    "    if result > best_result:\n",
    "        best_result = result\n",
    "        best_depth = depth\n",
    "        probabilities_valid = model.predict_proba(features_valid)\n",
    "        probabilities_one_valid = probabilities_valid[:, 1]\n",
    "        best_auc_roc = roc_auc_score(target_valid, probabilities_one_valid)\n",
    "print('Best depth:', best_depth)\n",
    "print('Best F1:', best_result)\n",
    "print('Best AUC-ROC:', best_auc_roc)"
   ]
  },
  {
   "cell_type": "markdown",
   "metadata": {
    "id": "fOFmDET3vjsj"
   },
   "source": [
    "После увеличения выборки модель показывает несущественное изменение метрики F1 с `0.57` при `0.58` после взвешивания классов. Для этой модели мы можем сделать вывод, что увеличение выборки одинаково подходит для улучшения качества модели, как и взвешивание. Метрика AUC-ROC упала с `0.81` до `0.78`, что указывает на небольшое падение качества модели.\n",
    "\n",
    "- Случайный лес"
   ]
  },
  {
   "cell_type": "code",
   "execution_count": null,
   "metadata": {
    "id": "3tKKORVNvjsj",
    "outputId": "4b51a2a1-26f0-45e3-fd8c-80713ba57def"
   },
   "outputs": [
    {
     "name": "stdout",
     "output_type": "stream",
     "text": [
      "Best count estimators: 30\n",
      "Best count depth: 5\n",
      "Best F1: 0.6087786259541985\n",
      "Best AUC-ROC: 0.8386241145905795\n"
     ]
    }
   ],
   "source": [
    "best_result = 0\n",
    "best_est = 0\n",
    "best_depth = 0\n",
    "for est in range(10, 51, 10):\n",
    "    for depth in range (1, 21):\n",
    "        model = RandomForestClassifier(random_state=12345, n_estimators=est, max_depth=depth)\n",
    "        model.fit(features_train, target_train) \n",
    "        predictions_valid = model.predict(features_valid) \n",
    "        result = f1_score(target_valid, predictions_valid)\n",
    "        if result > best_result:\n",
    "            best_result = result\n",
    "            best_est = est\n",
    "            best_depth = depth\n",
    "            probabilities_valid = model.predict_proba(features_valid)\n",
    "            probabilities_one_valid = probabilities_valid[:, 1]\n",
    "            best_auc_roc = roc_auc_score(target_valid, probabilities_one_valid)\n",
    "print('Best count estimators:', best_est)\n",
    "print('Best count depth:', best_depth)\n",
    "print('Best F1:', best_result)\n",
    "print('Best AUC-ROC:', best_auc_roc)"
   ]
  },
  {
   "cell_type": "markdown",
   "metadata": {
    "id": "sehsJHWovjsk"
   },
   "source": [
    "Результаты обучения данной модели также показывают, что увеличение выборки оказывает чуть меньшее влияние на качество обучения, чем взвешивание классов, метрика F1 показывает `0.61` против `0.62` при взвешивании классов. Увеличение выборки также не привело к учеличению метрики AUC-ROC данной модели, она осталась `0.84`.\n",
    "\n",
    "- Логистическая регрессия"
   ]
  },
  {
   "cell_type": "code",
   "execution_count": null,
   "metadata": {
    "id": "MfW9PwR4vjsk",
    "outputId": "9dc34c2d-5499-4757-9d59-85f7be6e87b6"
   },
   "outputs": [
    {
     "name": "stdout",
     "output_type": "stream",
     "text": [
      "F1: 0.49484536082474223\n",
      "AUC-ROC: 0.8386241145905795\n"
     ]
    }
   ],
   "source": [
    "model = LogisticRegression(random_state=12345, solver='lbfgs')\n",
    "model.fit(features_train, target_train)\n",
    "predictions_valid = model.predict(features_valid)\n",
    "result = f1_score(target_valid, predictions_valid)\n",
    "print('F1:', result)\n",
    "\n",
    "probabilities_valid = model.predict_proba(features_valid)\n",
    "probabilities_one_valid = probabilities_valid[:, 1]\n",
    "auc_roc = roc_auc_score(target_valid, probabilities_one_valid)\n",
    "print('AUC-ROC:', best_auc_roc)"
   ]
  },
  {
   "cell_type": "markdown",
   "metadata": {
    "id": "Twl9L1Rmvjsl"
   },
   "source": [
    "Логистическая регрессия также показывает незначительный рост качества при увеличении выборки: F1 увеличилось до `0.51` с `0.5` при взвешивании классов. У логистической регрессии аналогичная ситуация изменения метрики AUC-ROC, она не изменилась и осталась `0.84`."
   ]
  },
  {
   "cell_type": "markdown",
   "metadata": {
    "id": "TXFIWQ2Nvjsm"
   },
   "source": [
    "## Тестирование модели"
   ]
  },
  {
   "cell_type": "markdown",
   "metadata": {
    "id": "Slq_f9ktvjsm"
   },
   "source": [
    "Мы определили, что лучшее качество F1 в `0.62` и AUC-ROC в `0.84` показывает модель `Случайный лес` после взвешивания классов. Также подобраны наиболее подходящие гиперпараметры для обучения модели: глубина `10` и количество деревьев `30`. Теперь мы можем провести финальную проверку на тестовой выборке."
   ]
  },
  {
   "cell_type": "code",
   "execution_count": null,
   "metadata": {
    "id": "fSjop-7Kvjsm",
    "outputId": "e106ccb8-dea8-4ee4-8c2c-39143c1753a5"
   },
   "outputs": [
    {
     "name": "stdout",
     "output_type": "stream",
     "text": [
      "F1: 0.602536997885835\n"
     ]
    }
   ],
   "source": [
    "model = RandomForestClassifier(random_state=12345, n_estimators=30, max_depth=10, class_weight='balanced')\n",
    "model.fit(features_train, target_train) \n",
    "predictions_test = model.predict(features_test) \n",
    "result = f1_score(target_test, predictions_test)\n",
    "print('F1:', result)"
   ]
  },
  {
   "cell_type": "markdown",
   "metadata": {
    "id": "u83Ja5KKvjso"
   },
   "source": [
    "Данная модель обучилась достаточно качественно, метрика качества F1 составляет `0.6`. Посмотрим AUC-ROC для тестовой выборки."
   ]
  },
  {
   "cell_type": "code",
   "execution_count": null,
   "metadata": {
    "id": "8W23Cy3zvjsp",
    "outputId": "1f46517c-f7d6-483b-e67c-145bce401614"
   },
   "outputs": [
    {
     "name": "stdout",
     "output_type": "stream",
     "text": [
      "AUC-ROC 0.8434911726038157\n"
     ]
    }
   ],
   "source": [
    "probabilities_test = model.predict_proba(features_test)\n",
    "probabilities_one_test = probabilities_test[:, 1]\n",
    "auc_roc = roc_auc_score(target_test, probabilities_one_test)\n",
    "print('AUC-ROC', auc_roc)"
   ]
  },
  {
   "cell_type": "markdown",
   "metadata": {
    "id": "v8-a3Cn1vjsp"
   },
   "source": [
    "Показатель метрики качества F1 случайной модели равна `0.5`. Наш показатель AUC-ROC на наиболее подходящей модели составляет `0.84`, что значительно выше, чем у случайной модели. Значение достаточно высокое, чтобы считать модель хорошо обученной."
   ]
  },
  {
   "cell_type": "markdown",
   "metadata": {
    "id": "zNLtjquFvjsq"
   },
   "source": [
    "## Вывод\n",
    "1. Мы загрузили и подготовили данные о поведении ушедших клиентов из банка «Бета-Банк», чтобы обучить максимально подходящую модель для определения клиентов, которые могут уйти в будущем.\n",
    "2. Мы исследовали баланс классов и обучили модель без учёта дисбаланса, подобрав каждой модели наиболее подходящие гиперпараметры. Показатели F1 и AUC-ROC достаточно низкие, дисбаланс мешает нам обучить модель качественно:\n",
    "- Дерево решений - F1 0.52, AUC-ROC 0.82\n",
    "- Случайный лес - F1 0.52, AUC-ROC 0.84\n",
    "- Логистическая регрессия - F1 0.19, AUC-ROC 0.84\n",
    "3. Применив взвешивание классов для устранения эффекта дисбаланса, мы получили более высокие метрики качества, однако не до конца подходящие:\n",
    "- Дерево решений - F1 0.57, AUC-ROC 0.81\n",
    "- Случайный лес - F1 0.62, AUC-ROC 0.84\n",
    "- Логистическая регрессия - F1 0.5, AUC-ROC 0.84\n",
    "4. Применив метод увеличения выборки меньшего класса, мы добились наиболее высоких показателей качества моделей:\n",
    "- Дерево решений - F1 0.58, AUC-ROC 0.78\n",
    "- Случайный лес - F1 0.61, AUC-ROC 0.84\n",
    "- Логистическая регрессия - F1 0.51, AUC-ROC 0.84\n",
    "5. Мы определили, что наиболее качественное обучение показывает модель `Дерево решений` после взвешивания классов при гиперпараметрах глубины `10` и количества деревьев `30`.\n",
    "6. Таким образом мы построили модель с предельно большим значением F1-меры, которая на основании предоставленых исторических данных о поведении клиентов и расторжении договоров с банком сможет спрогназировать, уйдёт клиент из «Бета-Банка» в ближайшее время или нет. Метрика F1 составила `0.6`, метрика AUC-ROC составила `0.84`."
   ]
  }
 ],
 "metadata": {
  "ExecuteTimeLog": [
   {
    "duration": 418,
    "start_time": "2023-03-06T16:23:18.875Z"
   },
   {
    "duration": 179,
    "start_time": "2023-03-06T16:23:19.555Z"
   },
   {
    "duration": 63,
    "start_time": "2023-03-06T16:23:42.968Z"
   },
   {
    "duration": 67,
    "start_time": "2023-03-06T16:24:00.843Z"
   },
   {
    "duration": 66,
    "start_time": "2023-03-06T16:35:45.514Z"
   },
   {
    "duration": 13,
    "start_time": "2023-03-06T16:35:56.322Z"
   },
   {
    "duration": 3,
    "start_time": "2023-03-06T16:40:28.042Z"
   },
   {
    "duration": 73,
    "start_time": "2023-03-06T16:40:28.462Z"
   },
   {
    "duration": 15,
    "start_time": "2023-03-06T16:40:29.338Z"
   },
   {
    "duration": 7,
    "start_time": "2023-03-06T16:40:30.763Z"
   },
   {
    "duration": 16,
    "start_time": "2023-03-06T16:41:32.742Z"
   },
   {
    "duration": 7,
    "start_time": "2023-03-06T16:51:08.655Z"
   },
   {
    "duration": 8,
    "start_time": "2023-03-06T16:51:35.955Z"
   },
   {
    "duration": 12,
    "start_time": "2023-03-06T16:52:04.728Z"
   },
   {
    "duration": 11,
    "start_time": "2023-03-06T16:52:15.890Z"
   },
   {
    "duration": 5,
    "start_time": "2023-03-06T16:53:31.157Z"
   },
   {
    "duration": 6,
    "start_time": "2023-03-06T16:53:59.288Z"
   },
   {
    "duration": 8,
    "start_time": "2023-03-06T16:54:10.744Z"
   },
   {
    "duration": 7,
    "start_time": "2023-03-06T16:54:42.780Z"
   },
   {
    "duration": 710,
    "start_time": "2023-03-06T16:55:01.187Z"
   },
   {
    "duration": 6,
    "start_time": "2023-03-06T16:55:14.886Z"
   },
   {
    "duration": 8,
    "start_time": "2023-03-06T16:55:45.514Z"
   },
   {
    "duration": 5,
    "start_time": "2023-03-06T16:55:54.530Z"
   },
   {
    "duration": 5,
    "start_time": "2023-03-06T16:56:09.686Z"
   },
   {
    "duration": 10,
    "start_time": "2023-03-06T16:56:37.034Z"
   },
   {
    "duration": 12,
    "start_time": "2023-03-06T16:56:53.412Z"
   },
   {
    "duration": 5,
    "start_time": "2023-03-06T17:01:11.098Z"
   },
   {
    "duration": 9,
    "start_time": "2023-03-06T17:02:49.739Z"
   },
   {
    "duration": 17,
    "start_time": "2023-03-06T17:04:09.532Z"
   },
   {
    "duration": 18,
    "start_time": "2023-03-06T17:09:00.442Z"
   },
   {
    "duration": 16,
    "start_time": "2023-03-06T17:09:24.368Z"
   },
   {
    "duration": 3,
    "start_time": "2023-03-06T17:10:49.674Z"
   },
   {
    "duration": 66,
    "start_time": "2023-03-06T17:10:49.847Z"
   },
   {
    "duration": 7,
    "start_time": "2023-03-06T17:10:51.178Z"
   },
   {
    "duration": 6,
    "start_time": "2023-03-06T17:11:12.789Z"
   },
   {
    "duration": 17,
    "start_time": "2023-03-06T17:11:19.731Z"
   },
   {
    "duration": 13,
    "start_time": "2023-03-06T17:11:23.430Z"
   },
   {
    "duration": 5,
    "start_time": "2023-03-06T17:11:26.137Z"
   },
   {
    "duration": 10,
    "start_time": "2023-03-06T17:11:26.649Z"
   },
   {
    "duration": 9,
    "start_time": "2023-03-06T17:11:53.796Z"
   },
   {
    "duration": 14,
    "start_time": "2023-03-06T17:12:05.609Z"
   },
   {
    "duration": 46,
    "start_time": "2023-03-06T17:12:18.827Z"
   },
   {
    "duration": 412,
    "start_time": "2023-03-08T08:04:39.225Z"
   },
   {
    "duration": 110,
    "start_time": "2023-03-08T08:04:39.638Z"
   },
   {
    "duration": 10,
    "start_time": "2023-03-08T08:04:39.755Z"
   },
   {
    "duration": 7,
    "start_time": "2023-03-08T08:04:40.144Z"
   },
   {
    "duration": 20,
    "start_time": "2023-03-08T08:04:40.998Z"
   },
   {
    "duration": 11,
    "start_time": "2023-03-08T08:04:42.162Z"
   },
   {
    "duration": 11,
    "start_time": "2023-03-08T08:04:42.638Z"
   },
   {
    "duration": 22,
    "start_time": "2023-03-08T08:04:43.218Z"
   },
   {
    "duration": 795,
    "start_time": "2023-03-08T08:08:12.080Z"
   },
   {
    "duration": 3,
    "start_time": "2023-03-08T08:10:45.527Z"
   },
   {
    "duration": 76,
    "start_time": "2023-03-08T08:10:45.678Z"
   },
   {
    "duration": 10,
    "start_time": "2023-03-08T08:10:46.037Z"
   },
   {
    "duration": 12,
    "start_time": "2023-03-08T08:10:46.420Z"
   },
   {
    "duration": 18,
    "start_time": "2023-03-08T08:10:47.824Z"
   },
   {
    "duration": 13,
    "start_time": "2023-03-08T08:10:49.775Z"
   },
   {
    "duration": 13,
    "start_time": "2023-03-08T08:10:50.393Z"
   },
   {
    "duration": 29,
    "start_time": "2023-03-08T08:10:50.819Z"
   },
   {
    "duration": 288,
    "start_time": "2023-03-08T08:10:53.155Z"
   },
   {
    "duration": 398,
    "start_time": "2023-03-08T08:15:48.322Z"
   },
   {
    "duration": 6,
    "start_time": "2023-03-08T08:16:15.346Z"
   },
   {
    "duration": 30,
    "start_time": "2023-03-08T08:16:55.948Z"
   },
   {
    "duration": 2,
    "start_time": "2023-03-08T08:19:33.784Z"
   },
   {
    "duration": 72,
    "start_time": "2023-03-08T08:19:33.979Z"
   },
   {
    "duration": 14,
    "start_time": "2023-03-08T08:19:34.329Z"
   },
   {
    "duration": 8,
    "start_time": "2023-03-08T08:19:34.642Z"
   },
   {
    "duration": 19,
    "start_time": "2023-03-08T08:19:34.995Z"
   },
   {
    "duration": 20,
    "start_time": "2023-03-08T08:19:35.401Z"
   },
   {
    "duration": 11,
    "start_time": "2023-03-08T08:19:35.784Z"
   },
   {
    "duration": 25,
    "start_time": "2023-03-08T08:19:36.182Z"
   },
   {
    "duration": 3,
    "start_time": "2023-03-08T08:19:52.390Z"
   },
   {
    "duration": 81,
    "start_time": "2023-03-08T08:19:52.566Z"
   },
   {
    "duration": 10,
    "start_time": "2023-03-08T08:19:52.924Z"
   },
   {
    "duration": 6,
    "start_time": "2023-03-08T08:19:53.255Z"
   },
   {
    "duration": 15,
    "start_time": "2023-03-08T08:19:55.189Z"
   },
   {
    "duration": 16,
    "start_time": "2023-03-08T08:19:56.200Z"
   },
   {
    "duration": 15,
    "start_time": "2023-03-08T08:19:58.092Z"
   },
   {
    "duration": 30,
    "start_time": "2023-03-08T08:20:00.201Z"
   },
   {
    "duration": 24,
    "start_time": "2023-03-08T08:20:06.600Z"
   },
   {
    "duration": 149,
    "start_time": "2023-03-08T08:20:15.280Z"
   },
   {
    "duration": 184,
    "start_time": "2023-03-08T08:20:32.455Z"
   },
   {
    "duration": 135,
    "start_time": "2023-03-08T08:21:44.177Z"
   },
   {
    "duration": 134,
    "start_time": "2023-03-08T08:21:54.565Z"
   },
   {
    "duration": 161,
    "start_time": "2023-03-08T08:22:31.656Z"
   },
   {
    "duration": 145,
    "start_time": "2023-03-08T08:23:19.309Z"
   },
   {
    "duration": 148,
    "start_time": "2023-03-08T08:23:31.039Z"
   },
   {
    "duration": 156,
    "start_time": "2023-03-08T08:24:38.690Z"
   },
   {
    "duration": 139,
    "start_time": "2023-03-08T08:24:42.819Z"
   },
   {
    "duration": 167,
    "start_time": "2023-03-08T08:25:01.750Z"
   },
   {
    "duration": 64,
    "start_time": "2023-03-08T08:25:23.707Z"
   },
   {
    "duration": 127,
    "start_time": "2023-03-08T08:25:33.980Z"
   },
   {
    "duration": 120,
    "start_time": "2023-03-08T08:25:50.541Z"
   },
   {
    "duration": 244,
    "start_time": "2023-03-08T08:26:03.135Z"
   },
   {
    "duration": 131,
    "start_time": "2023-03-08T08:26:52.023Z"
   },
   {
    "duration": 218,
    "start_time": "2023-03-08T08:27:09.734Z"
   },
   {
    "duration": 167,
    "start_time": "2023-03-08T08:28:04.624Z"
   },
   {
    "duration": 119,
    "start_time": "2023-03-08T08:28:42.147Z"
   },
   {
    "duration": 161,
    "start_time": "2023-03-08T08:30:46.076Z"
   },
   {
    "duration": 160,
    "start_time": "2023-03-08T08:30:54.103Z"
   },
   {
    "duration": 207,
    "start_time": "2023-03-08T08:32:26.266Z"
   },
   {
    "duration": 149,
    "start_time": "2023-03-08T08:38:30.575Z"
   },
   {
    "duration": 89,
    "start_time": "2023-03-08T08:38:44.552Z"
   },
   {
    "duration": 150,
    "start_time": "2023-03-08T08:38:53.942Z"
   },
   {
    "duration": 790,
    "start_time": "2023-03-08T08:47:49.826Z"
   },
   {
    "duration": 22,
    "start_time": "2023-03-08T08:48:01.803Z"
   },
   {
    "duration": 4,
    "start_time": "2023-03-08T08:48:48.779Z"
   },
   {
    "duration": 16,
    "start_time": "2023-03-08T08:59:32.262Z"
   },
   {
    "duration": 4,
    "start_time": "2023-03-08T09:06:00.363Z"
   },
   {
    "duration": 24,
    "start_time": "2023-03-08T09:07:43.943Z"
   },
   {
    "duration": 3,
    "start_time": "2023-03-08T09:08:09.467Z"
   },
   {
    "duration": 21,
    "start_time": "2023-03-08T09:08:15.975Z"
   },
   {
    "duration": 7,
    "start_time": "2023-03-08T09:08:21.773Z"
   },
   {
    "duration": 26,
    "start_time": "2023-03-08T09:08:33.337Z"
   },
   {
    "duration": 1494,
    "start_time": "2023-03-08T09:14:58.839Z"
   },
   {
    "duration": 71,
    "start_time": "2023-03-08T09:15:00.335Z"
   },
   {
    "duration": 15,
    "start_time": "2023-03-08T09:15:00.408Z"
   },
   {
    "duration": 35,
    "start_time": "2023-03-08T09:15:00.427Z"
   },
   {
    "duration": 46,
    "start_time": "2023-03-08T09:15:00.464Z"
   },
   {
    "duration": 30,
    "start_time": "2023-03-08T09:15:00.513Z"
   },
   {
    "duration": 24,
    "start_time": "2023-03-08T09:15:00.545Z"
   },
   {
    "duration": 44,
    "start_time": "2023-03-08T09:15:00.571Z"
   },
   {
    "duration": 183,
    "start_time": "2023-03-08T09:15:00.617Z"
   },
   {
    "duration": 22,
    "start_time": "2023-03-08T09:15:00.806Z"
   },
   {
    "duration": 164,
    "start_time": "2023-03-08T09:15:00.832Z"
   },
   {
    "duration": 358,
    "start_time": "2023-03-08T09:20:43.967Z"
   },
   {
    "duration": 0,
    "start_time": "2023-03-08T09:21:06.320Z"
   },
   {
    "duration": 1684,
    "start_time": "2023-03-08T09:21:09.555Z"
   },
   {
    "duration": 15373,
    "start_time": "2023-03-08T09:23:43.764Z"
   },
   {
    "duration": 1620,
    "start_time": "2023-03-08T09:25:17.813Z"
   },
   {
    "duration": 7927,
    "start_time": "2023-03-08T09:25:34.314Z"
   },
   {
    "duration": 7808,
    "start_time": "2023-03-08T09:37:49.586Z"
   },
   {
    "duration": 8040,
    "start_time": "2023-03-08T09:38:06.924Z"
   },
   {
    "duration": 7881,
    "start_time": "2023-03-08T09:38:34.090Z"
   },
   {
    "duration": 7755,
    "start_time": "2023-03-08T09:38:59.813Z"
   },
   {
    "duration": 7587,
    "start_time": "2023-03-08T09:39:39.244Z"
   },
   {
    "duration": 8105,
    "start_time": "2023-03-08T09:41:08.253Z"
   },
   {
    "duration": 34577,
    "start_time": "2023-03-08T09:41:23.090Z"
   },
   {
    "duration": 35078,
    "start_time": "2023-03-08T09:42:29.945Z"
   },
   {
    "duration": 15261,
    "start_time": "2023-03-08T09:43:28.883Z"
   },
   {
    "duration": 14302,
    "start_time": "2023-03-08T10:45:11.201Z"
   },
   {
    "duration": 16,
    "start_time": "2023-03-08T10:47:35.773Z"
   },
   {
    "duration": 1414,
    "start_time": "2023-03-08T10:49:37.260Z"
   },
   {
    "duration": 65,
    "start_time": "2023-03-08T10:49:38.677Z"
   },
   {
    "duration": 8,
    "start_time": "2023-03-08T10:49:38.744Z"
   },
   {
    "duration": 6,
    "start_time": "2023-03-08T10:49:38.755Z"
   },
   {
    "duration": 40,
    "start_time": "2023-03-08T10:49:38.763Z"
   },
   {
    "duration": 12,
    "start_time": "2023-03-08T10:49:38.805Z"
   },
   {
    "duration": 12,
    "start_time": "2023-03-08T10:49:38.819Z"
   },
   {
    "duration": 22,
    "start_time": "2023-03-08T10:49:38.832Z"
   },
   {
    "duration": 182,
    "start_time": "2023-03-08T10:49:38.856Z"
   },
   {
    "duration": 348,
    "start_time": "2023-03-08T10:49:39.040Z"
   },
   {
    "duration": 15161,
    "start_time": "2023-03-08T10:49:39.390Z"
   },
   {
    "duration": 224949,
    "start_time": "2023-03-08T10:49:54.553Z"
   },
   {
    "duration": 0,
    "start_time": "2023-03-08T10:55:10.017Z"
   },
   {
    "duration": 0,
    "start_time": "2023-03-08T10:55:10.018Z"
   },
   {
    "duration": 0,
    "start_time": "2023-03-08T10:55:10.020Z"
   },
   {
    "duration": 0,
    "start_time": "2023-03-08T10:55:10.021Z"
   },
   {
    "duration": 0,
    "start_time": "2023-03-08T10:55:10.022Z"
   },
   {
    "duration": 0,
    "start_time": "2023-03-08T10:55:10.023Z"
   },
   {
    "duration": 0,
    "start_time": "2023-03-08T10:55:10.024Z"
   },
   {
    "duration": 0,
    "start_time": "2023-03-08T10:55:10.025Z"
   },
   {
    "duration": 0,
    "start_time": "2023-03-08T10:55:10.026Z"
   },
   {
    "duration": 1403,
    "start_time": "2023-03-08T10:55:33.974Z"
   },
   {
    "duration": 68,
    "start_time": "2023-03-08T10:55:35.379Z"
   },
   {
    "duration": 10,
    "start_time": "2023-03-08T10:55:35.449Z"
   },
   {
    "duration": 8,
    "start_time": "2023-03-08T10:55:35.461Z"
   },
   {
    "duration": 20,
    "start_time": "2023-03-08T10:55:37.846Z"
   },
   {
    "duration": 15,
    "start_time": "2023-03-08T10:55:39.607Z"
   },
   {
    "duration": 14,
    "start_time": "2023-03-08T10:55:40.019Z"
   },
   {
    "duration": 33,
    "start_time": "2023-03-08T10:55:40.322Z"
   },
   {
    "duration": 139,
    "start_time": "2023-03-08T10:55:43.625Z"
   },
   {
    "duration": 345,
    "start_time": "2023-03-08T10:55:46.999Z"
   },
   {
    "duration": 325,
    "start_time": "2023-03-08T10:55:51.868Z"
   },
   {
    "duration": 14278,
    "start_time": "2023-03-08T10:55:56.082Z"
   },
   {
    "duration": 9026,
    "start_time": "2023-03-08T10:56:26.081Z"
   },
   {
    "duration": 0,
    "start_time": "2023-03-08T10:56:35.108Z"
   },
   {
    "duration": 135222,
    "start_time": "2023-03-08T10:56:40.881Z"
   },
   {
    "duration": 1709,
    "start_time": "2023-03-12T14:29:37.960Z"
   },
   {
    "duration": 0,
    "start_time": "2023-03-12T14:29:39.671Z"
   },
   {
    "duration": 0,
    "start_time": "2023-03-12T14:29:39.673Z"
   },
   {
    "duration": 0,
    "start_time": "2023-03-12T14:29:39.674Z"
   },
   {
    "duration": 0,
    "start_time": "2023-03-12T14:29:39.675Z"
   },
   {
    "duration": 1538,
    "start_time": "2023-03-12T14:29:56.179Z"
   },
   {
    "duration": 49,
    "start_time": "2023-03-12T14:30:44.605Z"
   },
   {
    "duration": 117,
    "start_time": "2023-03-12T14:30:46.179Z"
   },
   {
    "duration": 10,
    "start_time": "2023-03-12T14:30:47.187Z"
   },
   {
    "duration": 8,
    "start_time": "2023-03-12T14:30:48.185Z"
   },
   {
    "duration": 20,
    "start_time": "2023-03-12T14:30:48.995Z"
   },
   {
    "duration": 22,
    "start_time": "2023-03-12T14:30:49.970Z"
   },
   {
    "duration": 12,
    "start_time": "2023-03-12T14:30:52.028Z"
   },
   {
    "duration": 28,
    "start_time": "2023-03-12T14:30:56.965Z"
   },
   {
    "duration": 150,
    "start_time": "2023-03-12T14:30:59.801Z"
   },
   {
    "duration": 348,
    "start_time": "2023-03-12T14:31:01.301Z"
   },
   {
    "duration": 15983,
    "start_time": "2023-03-12T14:31:05.724Z"
   },
   {
    "duration": 16019,
    "start_time": "2023-03-12T14:31:26.473Z"
   },
   {
    "duration": 89935,
    "start_time": "2023-03-12T14:33:51.020Z"
   },
   {
    "duration": 8019,
    "start_time": "2023-03-12T14:39:10.058Z"
   },
   {
    "duration": 302748,
    "start_time": "2023-03-12T14:42:10.125Z"
   },
   {
    "duration": 1587,
    "start_time": "2023-03-12T14:50:36.724Z"
   },
   {
    "duration": 78,
    "start_time": "2023-03-12T14:50:38.313Z"
   },
   {
    "duration": 11,
    "start_time": "2023-03-12T14:50:38.393Z"
   },
   {
    "duration": 9,
    "start_time": "2023-03-12T14:50:38.481Z"
   },
   {
    "duration": 23,
    "start_time": "2023-03-12T14:50:39.205Z"
   },
   {
    "duration": 18,
    "start_time": "2023-03-12T14:50:40.222Z"
   },
   {
    "duration": 14,
    "start_time": "2023-03-12T14:50:41.138Z"
   },
   {
    "duration": 29,
    "start_time": "2023-03-12T14:50:42.489Z"
   },
   {
    "duration": 168,
    "start_time": "2023-03-12T14:50:44.089Z"
   },
   {
    "duration": 357,
    "start_time": "2023-03-12T14:50:44.735Z"
   },
   {
    "duration": 18063,
    "start_time": "2023-03-12T14:50:46.329Z"
   },
   {
    "duration": 67627,
    "start_time": "2023-03-12T14:51:07.096Z"
   },
   {
    "duration": 8978,
    "start_time": "2023-03-12T14:52:18.221Z"
   },
   {
    "duration": 6,
    "start_time": "2023-03-12T14:55:16.115Z"
   },
   {
    "duration": 5,
    "start_time": "2023-03-12T14:55:25.728Z"
   },
   {
    "duration": 1659,
    "start_time": "2023-03-12T14:56:40.089Z"
   },
   {
    "duration": 79,
    "start_time": "2023-03-12T14:56:41.750Z"
   },
   {
    "duration": 10,
    "start_time": "2023-03-12T14:56:41.831Z"
   },
   {
    "duration": 32,
    "start_time": "2023-03-12T14:56:41.844Z"
   },
   {
    "duration": 17,
    "start_time": "2023-03-12T14:56:43.898Z"
   },
   {
    "duration": 14,
    "start_time": "2023-03-12T14:56:46.630Z"
   },
   {
    "duration": 17,
    "start_time": "2023-03-12T14:56:47.900Z"
   },
   {
    "duration": 28,
    "start_time": "2023-03-12T14:56:49.910Z"
   },
   {
    "duration": 241,
    "start_time": "2023-03-12T14:56:52.051Z"
   },
   {
    "duration": 344,
    "start_time": "2023-03-12T14:56:55.157Z"
   },
   {
    "duration": 17916,
    "start_time": "2023-03-12T14:57:01.518Z"
   },
   {
    "duration": 6,
    "start_time": "2023-03-12T14:57:20.950Z"
   },
   {
    "duration": 6,
    "start_time": "2023-03-12T14:57:21.920Z"
   },
   {
    "duration": 152,
    "start_time": "2023-03-12T15:04:01.386Z"
   },
   {
    "duration": 373,
    "start_time": "2023-03-12T15:04:07.453Z"
   },
   {
    "duration": 8571,
    "start_time": "2023-03-12T15:04:31.401Z"
   },
   {
    "duration": 381,
    "start_time": "2023-03-12T15:04:54.900Z"
   },
   {
    "duration": 7932,
    "start_time": "2023-03-12T15:05:03.756Z"
   },
   {
    "duration": 342,
    "start_time": "2023-03-12T15:05:31.728Z"
   },
   {
    "duration": 22382,
    "start_time": "2023-03-12T15:11:00.237Z"
   },
   {
    "duration": 34360,
    "start_time": "2023-03-12T15:11:24.482Z"
   },
   {
    "duration": 8087,
    "start_time": "2023-03-12T15:12:03.095Z"
   },
   {
    "duration": 6,
    "start_time": "2023-03-12T15:12:12.915Z"
   },
   {
    "duration": 8,
    "start_time": "2023-03-12T15:12:13.768Z"
   },
   {
    "duration": 1593,
    "start_time": "2023-03-12T15:13:19.761Z"
   },
   {
    "duration": 76,
    "start_time": "2023-03-12T15:13:21.356Z"
   },
   {
    "duration": 12,
    "start_time": "2023-03-12T15:13:22.188Z"
   },
   {
    "duration": 8,
    "start_time": "2023-03-12T15:13:22.542Z"
   },
   {
    "duration": 19,
    "start_time": "2023-03-12T15:13:23.852Z"
   },
   {
    "duration": 18,
    "start_time": "2023-03-12T15:13:24.268Z"
   },
   {
    "duration": 15,
    "start_time": "2023-03-12T15:13:24.989Z"
   },
   {
    "duration": 28,
    "start_time": "2023-03-12T15:13:26.948Z"
   },
   {
    "duration": 168,
    "start_time": "2023-03-12T15:13:29.959Z"
   },
   {
    "duration": 382,
    "start_time": "2023-03-12T15:13:31.523Z"
   },
   {
    "duration": 8817,
    "start_time": "2023-03-12T15:13:45.261Z"
   },
   {
    "duration": 6,
    "start_time": "2023-03-12T15:13:55.103Z"
   },
   {
    "duration": 4,
    "start_time": "2023-03-12T15:13:55.591Z"
   },
   {
    "duration": 98456,
    "start_time": "2023-03-12T15:17:52.963Z"
   },
   {
    "duration": 77,
    "start_time": "2023-03-12T15:24:52.048Z"
   },
   {
    "duration": 365,
    "start_time": "2023-03-12T15:25:00.236Z"
   },
   {
    "duration": 7812,
    "start_time": "2023-03-12T15:25:06.862Z"
   },
   {
    "duration": 3,
    "start_time": "2023-03-12T15:29:29.797Z"
   },
   {
    "duration": 17471,
    "start_time": "2023-03-12T15:31:40.753Z"
   },
   {
    "duration": 95371,
    "start_time": "2023-03-12T15:32:34.531Z"
   },
   {
    "duration": 4691,
    "start_time": "2023-03-12T15:34:18.683Z"
   },
   {
    "duration": 8163,
    "start_time": "2023-03-12T15:34:35.730Z"
   },
   {
    "duration": 203098,
    "start_time": "2023-03-12T15:35:32.489Z"
   },
   {
    "duration": 115,
    "start_time": "2023-03-12T15:50:19.687Z"
   },
   {
    "duration": 4,
    "start_time": "2023-03-12T15:50:29.039Z"
   },
   {
    "duration": 56,
    "start_time": "2023-03-12T15:50:30.016Z"
   },
   {
    "duration": 4,
    "start_time": "2023-03-12T15:51:27.594Z"
   },
   {
    "duration": 132,
    "start_time": "2023-03-12T15:51:32.335Z"
   },
   {
    "duration": 26108,
    "start_time": "2023-03-12T15:51:39.141Z"
   },
   {
    "duration": 11081,
    "start_time": "2023-03-12T15:52:22.398Z"
   },
   {
    "duration": 25836,
    "start_time": "2023-03-12T15:52:37.922Z"
   },
   {
    "duration": 98694,
    "start_time": "2023-03-12T15:53:03.761Z"
   },
   {
    "duration": 5,
    "start_time": "2023-03-12T15:54:46.430Z"
   },
   {
    "duration": 597,
    "start_time": "2023-03-12T15:54:46.914Z"
   },
   {
    "duration": 576,
    "start_time": "2023-03-12T15:54:53.089Z"
   },
   {
    "duration": 45231,
    "start_time": "2023-03-12T15:54:55.233Z"
   },
   {
    "duration": 9211,
    "start_time": "2023-03-12T15:55:40.466Z"
   },
   {
    "duration": 30040,
    "start_time": "2023-03-12T15:55:59.346Z"
   },
   {
    "duration": 343985,
    "start_time": "2023-03-12T15:56:29.388Z"
   },
   {
    "duration": 764,
    "start_time": "2023-03-12T16:28:23.411Z"
   },
   {
    "duration": 756,
    "start_time": "2023-03-12T16:29:22.729Z"
   },
   {
    "duration": 4161,
    "start_time": "2023-03-12T16:31:53.493Z"
   },
   {
    "duration": 1477,
    "start_time": "2023-03-12T16:33:53.002Z"
   },
   {
    "duration": 70,
    "start_time": "2023-03-12T16:33:54.481Z"
   },
   {
    "duration": 9,
    "start_time": "2023-03-12T16:33:54.553Z"
   },
   {
    "duration": 14,
    "start_time": "2023-03-12T16:33:54.565Z"
   },
   {
    "duration": 19,
    "start_time": "2023-03-12T16:33:54.581Z"
   },
   {
    "duration": 13,
    "start_time": "2023-03-12T16:33:54.602Z"
   },
   {
    "duration": 12,
    "start_time": "2023-03-12T16:33:54.617Z"
   },
   {
    "duration": 55,
    "start_time": "2023-03-12T16:33:54.631Z"
   },
   {
    "duration": 164,
    "start_time": "2023-03-12T16:33:54.688Z"
   },
   {
    "duration": 360,
    "start_time": "2023-03-12T16:33:54.855Z"
   },
   {
    "duration": 16311,
    "start_time": "2023-03-12T16:33:55.217Z"
   },
   {
    "duration": 90500,
    "start_time": "2023-03-12T16:34:11.530Z"
   },
   {
    "duration": 7278,
    "start_time": "2023-03-12T16:35:42.032Z"
   },
   {
    "duration": 16494,
    "start_time": "2023-03-12T16:35:49.375Z"
   },
   {
    "duration": 194951,
    "start_time": "2023-03-12T16:36:05.873Z"
   },
   {
    "duration": 4375,
    "start_time": "2023-03-12T16:39:20.825Z"
   },
   {
    "duration": 72,
    "start_time": "2023-03-12T16:39:25.202Z"
   },
   {
    "duration": 665,
    "start_time": "2023-03-12T16:39:25.277Z"
   },
   {
    "duration": 29405,
    "start_time": "2023-03-12T16:39:25.944Z"
   },
   {
    "duration": 348697,
    "start_time": "2023-03-12T16:39:55.350Z"
   },
   {
    "duration": 8626,
    "start_time": "2023-03-12T16:45:44.049Z"
   },
   {
    "duration": 897,
    "start_time": "2023-03-12T16:45:52.678Z"
   },
   {
    "duration": 3618,
    "start_time": "2023-03-12T16:45:53.577Z"
   },
   {
    "duration": 754,
    "start_time": "2023-03-12T16:45:57.197Z"
   },
   {
    "duration": 74,
    "start_time": "2023-03-12T16:45:57.954Z"
   },
   {
    "duration": 1452,
    "start_time": "2023-03-12T16:46:20.736Z"
   },
   {
    "duration": 69,
    "start_time": "2023-03-12T16:46:22.191Z"
   },
   {
    "duration": 9,
    "start_time": "2023-03-12T16:46:22.262Z"
   },
   {
    "duration": 6,
    "start_time": "2023-03-12T16:46:22.273Z"
   },
   {
    "duration": 18,
    "start_time": "2023-03-12T16:46:22.281Z"
   },
   {
    "duration": 13,
    "start_time": "2023-03-12T16:46:22.300Z"
   },
   {
    "duration": 11,
    "start_time": "2023-03-12T16:46:22.315Z"
   },
   {
    "duration": 62,
    "start_time": "2023-03-12T16:46:22.327Z"
   },
   {
    "duration": 171,
    "start_time": "2023-03-12T16:46:22.391Z"
   },
   {
    "duration": 355,
    "start_time": "2023-03-12T16:46:22.572Z"
   },
   {
    "duration": 16254,
    "start_time": "2023-03-12T16:46:22.929Z"
   },
   {
    "duration": 90853,
    "start_time": "2023-03-12T16:46:39.185Z"
   },
   {
    "duration": 7540,
    "start_time": "2023-03-12T16:48:10.040Z"
   },
   {
    "duration": 16270,
    "start_time": "2023-03-12T16:48:17.672Z"
   },
   {
    "duration": 194641,
    "start_time": "2023-03-12T16:48:33.944Z"
   },
   {
    "duration": 4995,
    "start_time": "2023-03-12T16:51:48.587Z"
   },
   {
    "duration": 92,
    "start_time": "2023-03-12T16:51:53.586Z"
   },
   {
    "duration": 690,
    "start_time": "2023-03-12T16:51:53.680Z"
   },
   {
    "duration": 29176,
    "start_time": "2023-03-12T16:51:54.371Z"
   },
   {
    "duration": 347925,
    "start_time": "2023-03-12T16:52:23.549Z"
   },
   {
    "duration": 8898,
    "start_time": "2023-03-12T16:58:11.476Z"
   },
   {
    "duration": 904,
    "start_time": "2023-03-12T16:58:20.377Z"
   },
   {
    "duration": 3564,
    "start_time": "2023-03-12T16:58:21.372Z"
   },
   {
    "duration": 766,
    "start_time": "2023-03-12T16:58:24.937Z"
   },
   {
    "duration": 1603,
    "start_time": "2023-03-12T17:06:55.279Z"
   },
   {
    "duration": 73,
    "start_time": "2023-03-12T17:06:56.884Z"
   },
   {
    "duration": 11,
    "start_time": "2023-03-12T17:06:56.959Z"
   },
   {
    "duration": 14,
    "start_time": "2023-03-12T17:06:56.972Z"
   },
   {
    "duration": 24,
    "start_time": "2023-03-12T17:06:56.990Z"
   },
   {
    "duration": 14,
    "start_time": "2023-03-12T17:06:57.016Z"
   },
   {
    "duration": 14,
    "start_time": "2023-03-12T17:06:57.032Z"
   },
   {
    "duration": 35,
    "start_time": "2023-03-12T17:06:57.074Z"
   },
   {
    "duration": 189,
    "start_time": "2023-03-12T17:06:57.111Z"
   },
   {
    "duration": 360,
    "start_time": "2023-03-12T17:06:57.302Z"
   },
   {
    "duration": 15989,
    "start_time": "2023-03-12T17:06:57.664Z"
   },
   {
    "duration": 88422,
    "start_time": "2023-03-12T17:07:13.655Z"
   },
   {
    "duration": 7799,
    "start_time": "2023-03-12T17:08:42.079Z"
   },
   {
    "duration": 16270,
    "start_time": "2023-03-12T17:08:49.882Z"
   },
   {
    "duration": 191376,
    "start_time": "2023-03-12T17:09:06.154Z"
   },
   {
    "duration": 4441,
    "start_time": "2023-03-12T17:12:17.532Z"
   },
   {
    "duration": 6,
    "start_time": "2023-03-12T17:12:21.975Z"
   },
   {
    "duration": 664,
    "start_time": "2023-03-12T17:12:22.074Z"
   },
   {
    "duration": 28888,
    "start_time": "2023-03-12T17:12:22.740Z"
   },
   {
    "duration": 343855,
    "start_time": "2023-03-12T17:12:51.630Z"
   },
   {
    "duration": 8687,
    "start_time": "2023-03-12T17:18:35.487Z"
   },
   {
    "duration": 898,
    "start_time": "2023-03-12T17:18:44.177Z"
   },
   {
    "duration": 3519,
    "start_time": "2023-03-12T17:18:45.078Z"
   },
   {
    "duration": 791,
    "start_time": "2023-03-12T17:18:48.599Z"
   },
   {
    "duration": 314,
    "start_time": "2023-03-12T17:22:18.116Z"
   },
   {
    "duration": 379,
    "start_time": "2023-03-12T17:22:25.417Z"
   },
   {
    "duration": 381,
    "start_time": "2023-03-12T17:22:41.700Z"
   },
   {
    "duration": 1675,
    "start_time": "2023-03-12T17:31:48.442Z"
   },
   {
    "duration": 71,
    "start_time": "2023-03-12T17:31:50.119Z"
   },
   {
    "duration": 10,
    "start_time": "2023-03-12T17:31:50.192Z"
   },
   {
    "duration": 18,
    "start_time": "2023-03-12T17:31:50.204Z"
   },
   {
    "duration": 20,
    "start_time": "2023-03-12T17:31:50.224Z"
   },
   {
    "duration": 28,
    "start_time": "2023-03-12T17:31:50.246Z"
   },
   {
    "duration": 14,
    "start_time": "2023-03-12T17:31:50.276Z"
   },
   {
    "duration": 28,
    "start_time": "2023-03-12T17:31:50.293Z"
   },
   {
    "duration": 236,
    "start_time": "2023-03-12T17:31:50.323Z"
   },
   {
    "duration": 390,
    "start_time": "2023-03-12T17:31:50.562Z"
   },
   {
    "duration": 18496,
    "start_time": "2023-03-12T17:31:50.954Z"
   },
   {
    "duration": 96331,
    "start_time": "2023-03-12T17:32:09.452Z"
   },
   {
    "duration": 9594,
    "start_time": "2023-03-12T17:33:45.785Z"
   },
   {
    "duration": 598,
    "start_time": "2023-03-12T17:33:55.382Z"
   },
   {
    "duration": 20130,
    "start_time": "2023-03-12T17:33:55.982Z"
   },
   {
    "duration": 1548,
    "start_time": "2023-03-12T17:36:17.495Z"
   },
   {
    "duration": 73,
    "start_time": "2023-03-12T17:36:19.045Z"
   },
   {
    "duration": 9,
    "start_time": "2023-03-12T17:36:19.120Z"
   },
   {
    "duration": 7,
    "start_time": "2023-03-12T17:36:19.131Z"
   },
   {
    "duration": 19,
    "start_time": "2023-03-12T17:36:19.140Z"
   },
   {
    "duration": 17,
    "start_time": "2023-03-12T17:36:19.174Z"
   },
   {
    "duration": 16,
    "start_time": "2023-03-12T17:36:19.193Z"
   },
   {
    "duration": 68,
    "start_time": "2023-03-12T17:36:19.211Z"
   },
   {
    "duration": 194,
    "start_time": "2023-03-12T17:36:19.281Z"
   },
   {
    "duration": 393,
    "start_time": "2023-03-12T17:36:19.478Z"
   },
   {
    "duration": 19513,
    "start_time": "2023-03-12T17:36:19.873Z"
   },
   {
    "duration": 96813,
    "start_time": "2023-03-12T17:36:39.388Z"
   },
   {
    "duration": 9983,
    "start_time": "2023-03-12T17:38:16.203Z"
   },
   {
    "duration": 19218,
    "start_time": "2023-03-12T17:38:26.277Z"
   },
   {
    "duration": 218989,
    "start_time": "2023-03-12T17:38:45.497Z"
   },
   {
    "duration": 6395,
    "start_time": "2023-03-12T17:42:24.488Z"
   },
   {
    "duration": 87,
    "start_time": "2023-03-12T17:42:30.887Z"
   },
   {
    "duration": 699,
    "start_time": "2023-03-12T17:42:30.977Z"
   },
   {
    "duration": 38367,
    "start_time": "2023-03-12T17:42:31.678Z"
   },
   {
    "duration": 391204,
    "start_time": "2023-03-12T17:43:10.048Z"
   },
   {
    "duration": 10420,
    "start_time": "2023-03-12T17:49:41.254Z"
   },
   {
    "duration": 4017,
    "start_time": "2023-03-12T17:49:51.677Z"
   },
   {
    "duration": 851,
    "start_time": "2023-03-12T17:49:55.697Z"
   },
   {
    "duration": 1335,
    "start_time": "2023-03-13T18:51:41.412Z"
   },
   {
    "duration": 75,
    "start_time": "2023-03-13T18:51:42.749Z"
   },
   {
    "duration": 14,
    "start_time": "2023-03-13T18:51:42.832Z"
   },
   {
    "duration": 9,
    "start_time": "2023-03-13T18:51:42.851Z"
   },
   {
    "duration": 16,
    "start_time": "2023-03-13T18:51:42.863Z"
   },
   {
    "duration": 12,
    "start_time": "2023-03-13T18:51:42.881Z"
   },
   {
    "duration": 37,
    "start_time": "2023-03-13T18:51:42.895Z"
   },
   {
    "duration": 44,
    "start_time": "2023-03-13T18:51:42.933Z"
   },
   {
    "duration": 204,
    "start_time": "2023-03-13T18:51:42.978Z"
   },
   {
    "duration": 373,
    "start_time": "2023-03-13T18:51:43.185Z"
   },
   {
    "duration": 28,
    "start_time": "2023-03-13T18:51:44.284Z"
   },
   {
    "duration": 1618,
    "start_time": "2023-03-14T04:52:07.930Z"
   },
   {
    "duration": 118,
    "start_time": "2023-03-14T04:52:09.550Z"
   },
   {
    "duration": 11,
    "start_time": "2023-03-14T04:52:09.670Z"
   },
   {
    "duration": 7,
    "start_time": "2023-03-14T04:52:09.684Z"
   },
   {
    "duration": 15,
    "start_time": "2023-03-14T04:52:09.692Z"
   },
   {
    "duration": 11,
    "start_time": "2023-03-14T04:52:09.708Z"
   },
   {
    "duration": 13,
    "start_time": "2023-03-14T04:52:09.721Z"
   },
   {
    "duration": 62,
    "start_time": "2023-03-14T04:52:09.735Z"
   },
   {
    "duration": 164,
    "start_time": "2023-03-14T04:52:09.799Z"
   },
   {
    "duration": 333,
    "start_time": "2023-03-14T04:52:09.972Z"
   },
   {
    "duration": 18541,
    "start_time": "2023-03-14T04:52:10.306Z"
   },
   {
    "duration": 87017,
    "start_time": "2023-03-14T04:52:28.849Z"
   },
   {
    "duration": 7806,
    "start_time": "2023-03-14T04:53:55.868Z"
   },
   {
    "duration": 17196,
    "start_time": "2023-03-14T04:54:03.678Z"
   },
   {
    "duration": 193444,
    "start_time": "2023-03-14T04:54:20.876Z"
   },
   {
    "duration": 5484,
    "start_time": "2023-03-14T04:57:34.322Z"
   },
   {
    "duration": 67,
    "start_time": "2023-03-14T04:57:39.809Z"
   },
   {
    "duration": 692,
    "start_time": "2023-03-14T04:57:39.878Z"
   },
   {
    "duration": 35052,
    "start_time": "2023-03-14T04:57:40.572Z"
   },
   {
    "duration": 357952,
    "start_time": "2023-03-14T04:58:15.626Z"
   },
   {
    "duration": 9509,
    "start_time": "2023-03-14T05:04:13.580Z"
   },
   {
    "duration": 3429,
    "start_time": "2023-03-14T05:04:23.179Z"
   },
   {
    "duration": 739,
    "start_time": "2023-03-14T05:04:26.610Z"
   },
   {
    "duration": 28,
    "start_time": "2023-03-14T05:04:27.352Z"
   },
   {
    "duration": 119,
    "start_time": "2023-03-14T05:04:27.382Z"
   },
   {
    "duration": 7,
    "start_time": "2023-03-14T05:07:28.248Z"
   },
   {
    "duration": 4,
    "start_time": "2023-03-14T05:07:53.555Z"
   },
   {
    "duration": 867,
    "start_time": "2023-03-14T05:09:16.103Z"
   },
   {
    "duration": 5,
    "start_time": "2023-03-14T05:09:42.399Z"
   },
   {
    "duration": 5,
    "start_time": "2023-03-14T05:10:05.049Z"
   },
   {
    "duration": 4,
    "start_time": "2023-03-14T05:10:11.643Z"
   },
   {
    "duration": 3,
    "start_time": "2023-03-14T05:10:23.226Z"
   },
   {
    "duration": 4,
    "start_time": "2023-03-14T05:10:36.606Z"
   },
   {
    "duration": 1593,
    "start_time": "2023-03-14T05:12:51.466Z"
   },
   {
    "duration": 70,
    "start_time": "2023-03-14T05:12:53.062Z"
   },
   {
    "duration": 27,
    "start_time": "2023-03-14T05:12:53.134Z"
   },
   {
    "duration": 9,
    "start_time": "2023-03-14T05:12:53.164Z"
   },
   {
    "duration": 16,
    "start_time": "2023-03-14T05:12:53.175Z"
   },
   {
    "duration": 14,
    "start_time": "2023-03-14T05:12:53.193Z"
   },
   {
    "duration": 13,
    "start_time": "2023-03-14T05:12:53.209Z"
   },
   {
    "duration": 73,
    "start_time": "2023-03-14T05:12:53.223Z"
   },
   {
    "duration": 186,
    "start_time": "2023-03-14T05:12:53.298Z"
   },
   {
    "duration": 25,
    "start_time": "2023-03-14T05:12:53.488Z"
   },
   {
    "duration": 149,
    "start_time": "2023-03-14T05:12:53.515Z"
   },
   {
    "duration": 0,
    "start_time": "2023-03-14T05:12:53.666Z"
   },
   {
    "duration": 0,
    "start_time": "2023-03-14T05:12:53.668Z"
   },
   {
    "duration": 0,
    "start_time": "2023-03-14T05:12:53.673Z"
   },
   {
    "duration": 0,
    "start_time": "2023-03-14T05:12:53.674Z"
   },
   {
    "duration": 0,
    "start_time": "2023-03-14T05:12:53.676Z"
   },
   {
    "duration": 0,
    "start_time": "2023-03-14T05:12:53.677Z"
   },
   {
    "duration": 0,
    "start_time": "2023-03-14T05:12:53.678Z"
   },
   {
    "duration": 0,
    "start_time": "2023-03-14T05:12:53.679Z"
   },
   {
    "duration": 0,
    "start_time": "2023-03-14T05:12:53.680Z"
   },
   {
    "duration": 0,
    "start_time": "2023-03-14T05:12:53.682Z"
   },
   {
    "duration": 0,
    "start_time": "2023-03-14T05:12:53.684Z"
   },
   {
    "duration": 0,
    "start_time": "2023-03-14T05:12:53.685Z"
   },
   {
    "duration": 0,
    "start_time": "2023-03-14T05:12:53.686Z"
   },
   {
    "duration": 0,
    "start_time": "2023-03-14T05:12:53.688Z"
   },
   {
    "duration": 22,
    "start_time": "2023-03-14T05:14:56.497Z"
   },
   {
    "duration": 33,
    "start_time": "2023-03-14T05:17:12.985Z"
   },
   {
    "duration": 30,
    "start_time": "2023-03-14T05:19:03.412Z"
   },
   {
    "duration": 35,
    "start_time": "2023-03-14T05:20:01.599Z"
   },
   {
    "duration": 46,
    "start_time": "2023-03-14T05:20:08.434Z"
   },
   {
    "duration": 109,
    "start_time": "2023-03-14T11:30:38.612Z"
   },
   {
    "duration": 1795,
    "start_time": "2023-03-14T11:31:39.753Z"
   },
   {
    "duration": 130,
    "start_time": "2023-03-14T11:31:41.550Z"
   },
   {
    "duration": 28,
    "start_time": "2023-03-14T11:31:41.682Z"
   },
   {
    "duration": 11,
    "start_time": "2023-03-14T11:31:41.712Z"
   },
   {
    "duration": 19,
    "start_time": "2023-03-14T11:31:41.725Z"
   },
   {
    "duration": 14,
    "start_time": "2023-03-14T11:31:41.746Z"
   },
   {
    "duration": 29,
    "start_time": "2023-03-14T11:31:41.762Z"
   },
   {
    "duration": 42,
    "start_time": "2023-03-14T11:31:41.793Z"
   },
   {
    "duration": 198,
    "start_time": "2023-03-14T11:31:41.837Z"
   },
   {
    "duration": 26,
    "start_time": "2023-03-14T11:31:42.039Z"
   },
   {
    "duration": 56,
    "start_time": "2023-03-14T11:31:42.084Z"
   },
   {
    "duration": 194,
    "start_time": "2023-03-14T11:31:42.141Z"
   },
   {
    "duration": 7696,
    "start_time": "2023-03-14T11:31:42.337Z"
   },
   {
    "duration": 469,
    "start_time": "2023-03-14T11:31:50.035Z"
   },
   {
    "duration": 355,
    "start_time": "2023-03-14T11:31:50.509Z"
   },
   {
    "duration": 20146,
    "start_time": "2023-03-14T11:31:50.866Z"
   },
   {
    "duration": 668,
    "start_time": "2023-03-14T11:32:11.014Z"
   },
   {
    "duration": 10,
    "start_time": "2023-03-14T11:32:11.684Z"
   },
   {
    "duration": 33,
    "start_time": "2023-03-14T11:32:11.696Z"
   },
   {
    "duration": 214,
    "start_time": "2023-03-14T11:32:11.731Z"
   },
   {
    "duration": 0,
    "start_time": "2023-03-14T11:32:11.947Z"
   },
   {
    "duration": 0,
    "start_time": "2023-03-14T11:32:11.948Z"
   },
   {
    "duration": 0,
    "start_time": "2023-03-14T11:32:11.949Z"
   },
   {
    "duration": 0,
    "start_time": "2023-03-14T11:32:11.951Z"
   },
   {
    "duration": 0,
    "start_time": "2023-03-14T11:32:11.952Z"
   },
   {
    "duration": 10,
    "start_time": "2023-03-14T11:41:37.814Z"
   },
   {
    "duration": 141,
    "start_time": "2023-03-14T11:41:41.370Z"
   },
   {
    "duration": 13049,
    "start_time": "2023-03-14T11:41:43.452Z"
   },
   {
    "duration": 791,
    "start_time": "2023-03-14T11:41:56.505Z"
   },
   {
    "duration": 122,
    "start_time": "2023-03-14T11:41:57.310Z"
   },
   {
    "duration": 13,
    "start_time": "2023-03-14T11:41:57.479Z"
   },
   {
    "duration": 8,
    "start_time": "2023-03-14T11:47:55.402Z"
   },
   {
    "duration": 254,
    "start_time": "2023-03-14T11:59:58.338Z"
   },
   {
    "duration": 164,
    "start_time": "2023-03-14T12:00:19.562Z"
   },
   {
    "duration": 28,
    "start_time": "2023-03-14T12:00:51.274Z"
   },
   {
    "duration": 1546,
    "start_time": "2023-03-14T13:17:37.406Z"
   },
   {
    "duration": 101,
    "start_time": "2023-03-14T13:17:38.954Z"
   },
   {
    "duration": 9,
    "start_time": "2023-03-14T13:17:39.058Z"
   },
   {
    "duration": 6,
    "start_time": "2023-03-14T13:17:39.069Z"
   },
   {
    "duration": 17,
    "start_time": "2023-03-14T13:17:39.077Z"
   },
   {
    "duration": 37,
    "start_time": "2023-03-14T13:17:39.096Z"
   },
   {
    "duration": 10,
    "start_time": "2023-03-14T13:17:39.135Z"
   },
   {
    "duration": 26,
    "start_time": "2023-03-14T13:17:39.148Z"
   },
   {
    "duration": 175,
    "start_time": "2023-03-14T13:17:39.176Z"
   },
   {
    "duration": 17,
    "start_time": "2023-03-14T13:17:39.352Z"
   },
   {
    "duration": 40,
    "start_time": "2023-03-14T13:17:39.371Z"
   },
   {
    "duration": 169,
    "start_time": "2023-03-14T13:17:39.412Z"
   },
   {
    "duration": 6251,
    "start_time": "2023-03-14T13:17:39.584Z"
   },
   {
    "duration": 295,
    "start_time": "2023-03-14T13:17:45.837Z"
   },
   {
    "duration": 262,
    "start_time": "2023-03-14T13:17:46.135Z"
   },
   {
    "duration": 16488,
    "start_time": "2023-03-14T13:17:46.399Z"
   },
   {
    "duration": 251,
    "start_time": "2023-03-14T13:18:02.889Z"
   },
   {
    "duration": 6,
    "start_time": "2023-03-14T13:18:03.232Z"
   },
   {
    "duration": 99,
    "start_time": "2023-03-14T13:18:03.240Z"
   },
   {
    "duration": 13,
    "start_time": "2023-03-14T13:18:03.341Z"
   },
   {
    "duration": 209,
    "start_time": "2023-03-14T13:18:03.356Z"
   },
   {
    "duration": 22202,
    "start_time": "2023-03-14T13:18:03.566Z"
   },
   {
    "duration": 273,
    "start_time": "2023-03-14T13:18:25.770Z"
   },
   {
    "duration": 282,
    "start_time": "2023-03-14T13:18:26.132Z"
   },
   {
    "duration": 21,
    "start_time": "2023-03-14T13:18:26.416Z"
   },
   {
    "duration": 1344,
    "start_time": "2023-03-14T13:21:47.926Z"
   },
   {
    "duration": 61,
    "start_time": "2023-03-14T13:21:49.271Z"
   },
   {
    "duration": 8,
    "start_time": "2023-03-14T13:21:49.333Z"
   },
   {
    "duration": 16,
    "start_time": "2023-03-14T13:21:49.343Z"
   },
   {
    "duration": 31,
    "start_time": "2023-03-14T13:21:49.361Z"
   },
   {
    "duration": 17,
    "start_time": "2023-03-14T13:21:49.393Z"
   },
   {
    "duration": 13,
    "start_time": "2023-03-14T13:21:49.411Z"
   },
   {
    "duration": 24,
    "start_time": "2023-03-14T13:21:49.426Z"
   },
   {
    "duration": 154,
    "start_time": "2023-03-14T13:21:49.452Z"
   },
   {
    "duration": 25,
    "start_time": "2023-03-14T13:21:49.609Z"
   },
   {
    "duration": 37,
    "start_time": "2023-03-14T13:21:49.636Z"
   },
   {
    "duration": 165,
    "start_time": "2023-03-14T13:21:49.675Z"
   },
   {
    "duration": 6572,
    "start_time": "2023-03-14T13:21:49.842Z"
   },
   {
    "duration": 130,
    "start_time": "2023-03-14T13:21:56.416Z"
   },
   {
    "duration": 318,
    "start_time": "2023-03-14T13:21:56.632Z"
   },
   {
    "duration": 17145,
    "start_time": "2023-03-14T13:21:56.952Z"
   },
   {
    "duration": 434,
    "start_time": "2023-03-14T13:22:14.098Z"
   },
   {
    "duration": 95,
    "start_time": "2023-03-14T13:22:14.535Z"
   },
   {
    "duration": 13,
    "start_time": "2023-03-14T13:22:14.633Z"
   },
   {
    "duration": 20,
    "start_time": "2023-03-14T13:22:14.648Z"
   },
   {
    "duration": 209,
    "start_time": "2023-03-14T13:22:14.670Z"
   },
   {
    "duration": 23488,
    "start_time": "2023-03-14T13:22:14.880Z"
   },
   {
    "duration": 272,
    "start_time": "2023-03-14T13:22:38.370Z"
   },
   {
    "duration": 379,
    "start_time": "2023-03-14T13:22:38.645Z"
   },
   {
    "duration": 18,
    "start_time": "2023-03-14T13:22:39.026Z"
   },
   {
    "duration": 170,
    "start_time": "2023-03-14T13:26:22.648Z"
   },
   {
    "duration": 181,
    "start_time": "2023-03-14T13:26:29.267Z"
   },
   {
    "duration": 168,
    "start_time": "2023-03-14T13:26:33.828Z"
   },
   {
    "duration": 136,
    "start_time": "2023-03-14T13:26:38.957Z"
   },
   {
    "duration": 150,
    "start_time": "2023-03-14T13:26:43.507Z"
   },
   {
    "duration": 193,
    "start_time": "2023-03-14T13:26:49.546Z"
   },
   {
    "duration": 215,
    "start_time": "2023-03-14T13:26:53.701Z"
   },
   {
    "duration": 223,
    "start_time": "2023-03-14T13:26:58.299Z"
   },
   {
    "duration": 18,
    "start_time": "2023-03-14T13:27:10.202Z"
   },
   {
    "duration": 249,
    "start_time": "2023-03-14T13:27:20.630Z"
   },
   {
    "duration": 21,
    "start_time": "2023-03-14T13:28:13.299Z"
   },
   {
    "duration": 42,
    "start_time": "2023-04-01T17:57:49.387Z"
   },
   {
    "duration": 1462,
    "start_time": "2023-04-01T17:58:00.311Z"
   },
   {
    "duration": 196,
    "start_time": "2023-04-01T17:58:01.775Z"
   },
   {
    "duration": 7,
    "start_time": "2023-04-01T17:58:01.973Z"
   },
   {
    "duration": 25,
    "start_time": "2023-04-01T17:58:01.982Z"
   },
   {
    "duration": 50,
    "start_time": "2023-04-01T17:58:02.009Z"
   },
   {
    "duration": 46,
    "start_time": "2023-04-01T17:58:02.060Z"
   },
   {
    "duration": 18,
    "start_time": "2023-04-01T17:58:02.108Z"
   },
   {
    "duration": 47,
    "start_time": "2023-04-01T17:58:02.128Z"
   },
   {
    "duration": 180,
    "start_time": "2023-04-01T17:58:02.183Z"
   },
   {
    "duration": 17,
    "start_time": "2023-04-01T17:58:02.365Z"
   },
   {
    "duration": 14,
    "start_time": "2023-04-01T17:58:06.106Z"
   },
   {
    "duration": 39,
    "start_time": "2023-04-01T17:58:15.425Z"
   },
   {
    "duration": 24,
    "start_time": "2023-04-01T17:58:19.546Z"
   },
   {
    "duration": 14,
    "start_time": "2023-04-01T18:10:36.403Z"
   },
   {
    "duration": 5,
    "start_time": "2023-04-01T18:49:19.431Z"
   },
   {
    "duration": 66,
    "start_time": "2023-04-01T18:49:19.439Z"
   },
   {
    "duration": 6,
    "start_time": "2023-04-01T18:49:19.507Z"
   },
   {
    "duration": 9,
    "start_time": "2023-04-01T18:49:19.515Z"
   },
   {
    "duration": 36,
    "start_time": "2023-04-01T18:49:19.526Z"
   },
   {
    "duration": 23,
    "start_time": "2023-04-01T18:49:19.564Z"
   },
   {
    "duration": 9,
    "start_time": "2023-04-01T18:49:19.589Z"
   },
   {
    "duration": 22,
    "start_time": "2023-04-01T18:49:19.599Z"
   },
   {
    "duration": 115,
    "start_time": "2023-04-01T18:49:19.622Z"
   },
   {
    "duration": 16,
    "start_time": "2023-04-01T18:49:26.469Z"
   },
   {
    "duration": 17,
    "start_time": "2023-04-01T18:49:32.731Z"
   },
   {
    "duration": 33,
    "start_time": "2023-04-01T18:49:43.294Z"
   },
   {
    "duration": 13,
    "start_time": "2023-04-01T18:49:48.809Z"
   }
  ],
  "colab": {
   "provenance": []
  },
  "kernelspec": {
   "display_name": "Python 3 (ipykernel)",
   "language": "python",
   "name": "python3"
  },
  "language_info": {
   "codemirror_mode": {
    "name": "ipython",
    "version": 3
   },
   "file_extension": ".py",
   "mimetype": "text/x-python",
   "name": "python",
   "nbconvert_exporter": "python",
   "pygments_lexer": "ipython3",
   "version": "3.9.12"
  },
  "toc": {
   "base_numbering": 1,
   "nav_menu": {},
   "number_sections": true,
   "sideBar": true,
   "skip_h1_title": true,
   "title_cell": "Содержание",
   "title_sidebar": "Contents",
   "toc_cell": true,
   "toc_position": {},
   "toc_section_display": true,
   "toc_window_display": true
  }
 },
 "nbformat": 4,
 "nbformat_minor": 1
}
